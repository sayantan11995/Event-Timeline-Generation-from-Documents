{
  "nbformat": 4,
  "nbformat_minor": 0,
  "metadata": {
    "colab": {
      "name": "Comparison_TLS.ipynb",
      "provenance": [],
      "collapsed_sections": []
    },
    "kernelspec": {
      "display_name": "Python 3",
      "name": "python3"
    },
    "language_info": {
      "name": "python"
    }
  },
  "cells": [
    {
      "cell_type": "code",
      "metadata": {
        "colab": {
          "base_uri": "https://localhost:8080/"
        },
        "id": "hjQGBPH_KRCF",
        "outputId": "e65ac1b9-d2d9-462b-8c65-e5c879b4b7bd"
      },
      "source": [
        "import os, sys\n",
        "from google.colab import drive\n",
        "drive.mount('/content/drive')\n",
        "nb_path = '/content/notebooks'\n",
        "os.symlink('/content/drive/MyDrive/Colab Notebooks', nb_path)\n",
        "sys.path.insert(0,nb_path)"
      ],
      "execution_count": null,
      "outputs": [
        {
          "output_type": "stream",
          "name": "stdout",
          "text": [
            "Mounted at /content/drive\n"
          ]
        }
      ]
    },
    {
      "cell_type": "code",
      "metadata": {
        "id": "fXvM-9PAKY2P"
      },
      "source": [
        "# !pip install --target=$nb_path tilse\n",
        "!apt-get install libxml-parser-perl\n",
        "\n",
        "import datetime\n",
        "import pprint\n",
        "import json\n",
        "\n",
        "from tilse.data import timelines\n",
        "from tilse.evaluation import rouge"
      ],
      "execution_count": null,
      "outputs": []
    },
    {
      "cell_type": "code",
      "metadata": {
        "id": "edf6Ks5mv-kW"
      },
      "source": [
        "# !python3 /content/drive/MyDrive/Colab\\ Notebooks/bin/get-and-preprocess-data --corpus_name \"timeline17\"\n",
        "# os.chdir('/content/drive/MyDrive/Colab Notebooks/news-tls')\n",
        "\n",
        "# !pip install -r requirements.txt\n",
        "# !pip install -e .\n",
        "\n",
        "# !python3 preprocessing/preprocess_tokenize.py --dataset datasets/t17/\n",
        "\n",
        "# !python3 preprocessing/preprocess_heideltime.py --dataset datasets/t17/ --heideltime '/content/drive/MyDrive/Colab Notebooks/tilse/tools/heideltime'"
      ],
      "execution_count": null,
      "outputs": []
    },
    {
      "cell_type": "code",
      "metadata": {
        "id": "oWfW_DrT-O_o"
      },
      "source": [
        ""
      ],
      "execution_count": null,
      "outputs": []
    },
    {
      "cell_type": "code",
      "metadata": {
        "colab": {
          "base_uri": "https://localhost:8080/",
          "height": 512
        },
        "id": "ybMC51uTHT3b",
        "outputId": "24434438-5e16-4936-bcab-0298af61d447"
      },
      "source": [
        "import pandas as pd\n",
        "event_data = pd.read_csv('drive/MyDrive/Colab Notebooks/event_timeline_generation/news-tls data/CWMG/CWMG_letters_timeline_data.csv')\n",
        "\n",
        "# event_data.isna().sum()\n",
        "event_data.dropna(subset = [\"title\"], inplace=True)\n",
        "# event_data.head()\n",
        "df_new = event_data.groupby(event_data['date']).agg(lambda x: x.tolist())\n",
        "\n",
        "event_data.head(15)"
      ],
      "execution_count": null,
      "outputs": [
        {
          "output_type": "execute_result",
          "data": {
            "text/html": [
              "<div>\n",
              "<style scoped>\n",
              "    .dataframe tbody tr th:only-of-type {\n",
              "        vertical-align: middle;\n",
              "    }\n",
              "\n",
              "    .dataframe tbody tr th {\n",
              "        vertical-align: top;\n",
              "    }\n",
              "\n",
              "    .dataframe thead th {\n",
              "        text-align: right;\n",
              "    }\n",
              "</style>\n",
              "<table border=\"1\" class=\"dataframe\">\n",
              "  <thead>\n",
              "    <tr style=\"text-align: right;\">\n",
              "      <th></th>\n",
              "      <th>Unnamed: 0</th>\n",
              "      <th>date</th>\n",
              "      <th>event</th>\n",
              "      <th>title</th>\n",
              "    </tr>\n",
              "  </thead>\n",
              "  <tbody>\n",
              "    <tr>\n",
              "      <th>0</th>\n",
              "      <td>0</td>\n",
              "      <td>1930-09-02T00:00:00+00:00</td>\n",
              "      <td>LETTER TO MOTILAL NEHRU DELHI , January 3 , 1...</td>\n",
              "      <td>LETTER TO MOTILAL NEHRU DELHI , January 3 , 19...</td>\n",
              "    </tr>\n",
              "    <tr>\n",
              "      <th>1</th>\n",
              "      <td>1</td>\n",
              "      <td>1930-01-03T00:00:00+00:00</td>\n",
              "      <td>LETTER TO S. SRINIVASA IYENGAR Your conduct i...</td>\n",
              "      <td>LETTER TO S. SRINIVASA IYENGAR Your conduct in...</td>\n",
              "    </tr>\n",
              "    <tr>\n",
              "      <th>3</th>\n",
              "      <td>3</td>\n",
              "      <td>1930-04-11T00:00:00+00:00</td>\n",
              "      <td>KUNVARJI , Rami and the children arrived here...</td>\n",
              "      <td>KUNVARJI , Rami and the children arrived here ...</td>\n",
              "    </tr>\n",
              "    <tr>\n",
              "      <th>4</th>\n",
              "      <td>4</td>\n",
              "      <td>1930-07-18T00:00:00+00:00</td>\n",
              "      <td>It was not very satisfying . The text of the ...</td>\n",
              "      <td>The text of the original , which is in Gujarat...</td>\n",
              "    </tr>\n",
              "    <tr>\n",
              "      <th>6</th>\n",
              "      <td>6</td>\n",
              "      <td>1930-11-28T00:00:00+00:00</td>\n",
              "      <td>, Your letter has arrived . Let us be content...</td>\n",
              "      <td>Let us be content with exchange of letters . B...</td>\n",
              "    </tr>\n",
              "    <tr>\n",
              "      <th>7</th>\n",
              "      <td>7</td>\n",
              "      <td>1930-04-14T00:00:00+00:00</td>\n",
              "      <td>All that is necessary is that they should fee...</td>\n",
              "      <td>All that is necessary is that they should feel...</td>\n",
              "    </tr>\n",
              "    <tr>\n",
              "      <th>8</th>\n",
              "      <td>8</td>\n",
              "      <td>1930-07-28T00:00:00+00:00</td>\n",
              "      <td>\" VIA \" SURAT From the Gujarati original : Bl...</td>\n",
              "      <td>\" VIA \" SURAT From the Gujarati original : Ble...</td>\n",
              "    </tr>\n",
              "    <tr>\n",
              "      <th>9</th>\n",
              "      <td>9</td>\n",
              "      <td>1930-04-19T00:00:00+00:00</td>\n",
              "      <td>From a photostat : S.N. 9569 1 Vande- Pyarela...</td>\n",
              "      <td>From a photostat : S.N. 9569 1 Vande- Pyarelal...</td>\n",
              "    </tr>\n",
              "    <tr>\n",
              "      <th>10</th>\n",
              "      <td>10</td>\n",
              "      <td>1930-04-11T00:00:00+00:00</td>\n",
              "      <td>Ganga- behn S.N. 32964 1 LAKSHMIBEHN ( KHARE ...</td>\n",
              "      <td>Ganga- behn S.N. 32964 1 LAKSHMIBEHN ( KHARE )...</td>\n",
              "    </tr>\n",
              "    <tr>\n",
              "      <th>11</th>\n",
              "      <td>11</td>\n",
              "      <td>1930-10-12T00:00:00+00:00</td>\n",
              "      <td>LETTER TO CHANDRAKANTA 2 Gangabehn Vaidya 3 F...</td>\n",
              "      <td>LETTER TO CHANDRAKANTA 2 Gangabehn Vaidya 3 Fr...</td>\n",
              "    </tr>\n",
              "    <tr>\n",
              "      <th>12</th>\n",
              "      <td>12</td>\n",
              "      <td>1930-05-04T00:00:00+00:00</td>\n",
              "      <td>When this is understood , all manner of contr...</td>\n",
              "      <td>When this is understood , all manner of contro...</td>\n",
              "    </tr>\n",
              "    <tr>\n",
              "      <th>13</th>\n",
              "      <td>13</td>\n",
              "      <td>1930-06-30T00:00:00+00:00</td>\n",
              "      <td>Courtesy : Courtesy : Courtesy : Courtesy : C...</td>\n",
              "      <td>Courtesy : Courtesy : Courtesy : Courtesy : Co...</td>\n",
              "    </tr>\n",
              "    <tr>\n",
              "      <th>14</th>\n",
              "      <td>14</td>\n",
              "      <td>1930-04-14T00:00:00+00:00</td>\n",
              "      <td>, I get news of him twice in the day . GANDHI...</td>\n",
              "      <td>GANDHI permit do go to look up brother for a d...</td>\n",
              "    </tr>\n",
              "    <tr>\n",
              "      <th>15</th>\n",
              "      <td>15</td>\n",
              "      <td>1930-02-02T00:00:00+00:00</td>\n",
              "      <td>The practice of collective silent prayer also...</td>\n",
              "      <td>The practice of collective silent prayer also ...</td>\n",
              "    </tr>\n",
              "    <tr>\n",
              "      <th>16</th>\n",
              "      <td>16</td>\n",
              "      <td>1930-04-30T00:00:00+00:00</td>\n",
              "      <td>BAPU From a photostat of the Gujarati : Bless...</td>\n",
              "      <td>BAPU From a photostat of the Gujarati : Blessi...</td>\n",
              "    </tr>\n",
              "  </tbody>\n",
              "</table>\n",
              "</div>"
            ],
            "text/plain": [
              "    Unnamed: 0  ...                                              title\n",
              "0            0  ...  LETTER TO MOTILAL NEHRU DELHI , January 3 , 19...\n",
              "1            1  ...  LETTER TO S. SRINIVASA IYENGAR Your conduct in...\n",
              "3            3  ...  KUNVARJI , Rami and the children arrived here ...\n",
              "4            4  ...  The text of the original , which is in Gujarat...\n",
              "6            6  ...  Let us be content with exchange of letters . B...\n",
              "7            7  ...  All that is necessary is that they should feel...\n",
              "8            8  ...  \" VIA \" SURAT From the Gujarati original : Ble...\n",
              "9            9  ...  From a photostat : S.N. 9569 1 Vande- Pyarelal...\n",
              "10          10  ...  Ganga- behn S.N. 32964 1 LAKSHMIBEHN ( KHARE )...\n",
              "11          11  ...  LETTER TO CHANDRAKANTA 2 Gangabehn Vaidya 3 Fr...\n",
              "12          12  ...  When this is understood , all manner of contro...\n",
              "13          13  ...  Courtesy : Courtesy : Courtesy : Courtesy : Co...\n",
              "14          14  ...  GANDHI permit do go to look up brother for a d...\n",
              "15          15  ...  The practice of collective silent prayer also ...\n",
              "16          16  ...  BAPU From a photostat of the Gujarati : Blessi...\n",
              "\n",
              "[15 rows x 4 columns]"
            ]
          },
          "metadata": {},
          "execution_count": 5
        }
      ]
    },
    {
      "cell_type": "code",
      "metadata": {
        "id": "JqkGSZPdYEjU",
        "colab": {
          "base_uri": "https://localhost:8080/"
        },
        "outputId": "37cb0855-466e-47d0-c7b1-9b679a10584f"
      },
      "source": [
        "import datetime\n",
        "import pandas as pd\n",
        "event_data = pd.read_csv('drive/MyDrive/Colab Notebooks/event_timeline_generation/news-tls data/CWAL/letters/CWAL_letters_event_data_new.csv')\n",
        "response_dic = {}\n",
        "for index, row in event_data.iterrows():\n",
        "    try:\n",
        "        response_dic[datetime.datetime.strptime(row['date'].split(\"T\")[0], \"%Y-%m-%d\").date()] += str(row['sentence'])\n",
        "    except:\n",
        "        response_dic[datetime.datetime.strptime(row['date'].split(\"T\")[0], \"%Y-%m-%d\").date()] = str(row['sentence'])\n",
        "\n",
        "response_dic\n",
        "\n",
        "\n",
        "print(len(response_dic))\n",
        "\n",
        "!pip install bert-extractive-summarizer\n",
        "from summarizer import Summarizer\n",
        "model = Summarizer()\n",
        "\n",
        "predicted_dic = {}\n",
        "\n",
        "i=1\n",
        "\n",
        "for k, events in response_dic.items():\n",
        "    if i%5 == 0:\n",
        "        print(\"processing %s event\"%(i))\n",
        "    i+=1\n",
        "    res = model(events, num_sentences=2)\n",
        "    if res != '':\n",
        "        predicted_dic[k] = res"
      ],
      "execution_count": null,
      "outputs": [
        {
          "output_type": "stream",
          "name": "stdout",
          "text": [
            "86\n",
            "Requirement already satisfied: bert-extractive-summarizer in /usr/local/lib/python3.7/dist-packages (0.8.1)\n",
            "Requirement already satisfied: transformers in /usr/local/lib/python3.7/dist-packages (from bert-extractive-summarizer) (4.10.2)\n",
            "Requirement already satisfied: spacy in /usr/local/lib/python3.7/dist-packages (from bert-extractive-summarizer) (2.2.4)\n",
            "Requirement already satisfied: scikit-learn in /usr/local/lib/python3.7/dist-packages (from bert-extractive-summarizer) (0.22.2.post1)\n",
            "Requirement already satisfied: joblib>=0.11 in /usr/local/lib/python3.7/dist-packages (from scikit-learn->bert-extractive-summarizer) (1.0.1)\n",
            "Requirement already satisfied: scipy>=0.17.0 in /usr/local/lib/python3.7/dist-packages (from scikit-learn->bert-extractive-summarizer) (1.4.1)\n",
            "Requirement already satisfied: numpy>=1.11.0 in /usr/local/lib/python3.7/dist-packages (from scikit-learn->bert-extractive-summarizer) (1.19.5)\n",
            "Requirement already satisfied: murmurhash<1.1.0,>=0.28.0 in /usr/local/lib/python3.7/dist-packages (from spacy->bert-extractive-summarizer) (1.0.5)\n",
            "Requirement already satisfied: thinc==7.4.0 in /usr/local/lib/python3.7/dist-packages (from spacy->bert-extractive-summarizer) (7.4.0)\n",
            "Requirement already satisfied: preshed<3.1.0,>=3.0.2 in /usr/local/lib/python3.7/dist-packages (from spacy->bert-extractive-summarizer) (3.0.5)\n",
            "Requirement already satisfied: requests<3.0.0,>=2.13.0 in /usr/local/lib/python3.7/dist-packages (from spacy->bert-extractive-summarizer) (2.23.0)\n",
            "Requirement already satisfied: plac<1.2.0,>=0.9.6 in /usr/local/lib/python3.7/dist-packages (from spacy->bert-extractive-summarizer) (1.1.3)\n",
            "Requirement already satisfied: wasabi<1.1.0,>=0.4.0 in /usr/local/lib/python3.7/dist-packages (from spacy->bert-extractive-summarizer) (0.8.2)\n",
            "Requirement already satisfied: catalogue<1.1.0,>=0.0.7 in /usr/local/lib/python3.7/dist-packages (from spacy->bert-extractive-summarizer) (1.0.0)\n",
            "Requirement already satisfied: cymem<2.1.0,>=2.0.2 in /usr/local/lib/python3.7/dist-packages (from spacy->bert-extractive-summarizer) (2.0.5)\n",
            "Requirement already satisfied: srsly<1.1.0,>=1.0.2 in /usr/local/lib/python3.7/dist-packages (from spacy->bert-extractive-summarizer) (1.0.5)\n",
            "Requirement already satisfied: tqdm<5.0.0,>=4.38.0 in /usr/local/lib/python3.7/dist-packages (from spacy->bert-extractive-summarizer) (4.62.0)\n",
            "Requirement already satisfied: blis<0.5.0,>=0.4.0 in /usr/local/lib/python3.7/dist-packages (from spacy->bert-extractive-summarizer) (0.4.1)\n",
            "Requirement already satisfied: setuptools in /usr/local/lib/python3.7/dist-packages (from spacy->bert-extractive-summarizer) (57.4.0)\n",
            "Requirement already satisfied: importlib-metadata>=0.20 in /usr/local/lib/python3.7/dist-packages (from catalogue<1.1.0,>=0.0.7->spacy->bert-extractive-summarizer) (4.6.4)\n",
            "Requirement already satisfied: zipp>=0.5 in /usr/local/lib/python3.7/dist-packages (from importlib-metadata>=0.20->catalogue<1.1.0,>=0.0.7->spacy->bert-extractive-summarizer) (3.5.0)\n",
            "Requirement already satisfied: typing-extensions>=3.6.4 in /usr/local/lib/python3.7/dist-packages (from importlib-metadata>=0.20->catalogue<1.1.0,>=0.0.7->spacy->bert-extractive-summarizer) (3.7.4.3)\n",
            "Requirement already satisfied: certifi>=2017.4.17 in /usr/local/lib/python3.7/dist-packages (from requests<3.0.0,>=2.13.0->spacy->bert-extractive-summarizer) (2021.5.30)\n",
            "Requirement already satisfied: chardet<4,>=3.0.2 in /usr/local/lib/python3.7/dist-packages (from requests<3.0.0,>=2.13.0->spacy->bert-extractive-summarizer) (3.0.4)\n",
            "Requirement already satisfied: idna<3,>=2.5 in /usr/local/lib/python3.7/dist-packages (from requests<3.0.0,>=2.13.0->spacy->bert-extractive-summarizer) (2.10)\n",
            "Requirement already satisfied: urllib3!=1.25.0,!=1.25.1,<1.26,>=1.21.1 in /usr/local/lib/python3.7/dist-packages (from requests<3.0.0,>=2.13.0->spacy->bert-extractive-summarizer) (1.24.3)\n",
            "Requirement already satisfied: sacremoses in /usr/local/lib/python3.7/dist-packages (from transformers->bert-extractive-summarizer) (0.0.45)\n",
            "Requirement already satisfied: tokenizers<0.11,>=0.10.1 in /usr/local/lib/python3.7/dist-packages (from transformers->bert-extractive-summarizer) (0.10.3)\n",
            "Requirement already satisfied: packaging in /usr/local/lib/python3.7/dist-packages (from transformers->bert-extractive-summarizer) (21.0)\n",
            "Requirement already satisfied: huggingface-hub>=0.0.12 in /usr/local/lib/python3.7/dist-packages (from transformers->bert-extractive-summarizer) (0.0.16)\n",
            "Requirement already satisfied: filelock in /usr/local/lib/python3.7/dist-packages (from transformers->bert-extractive-summarizer) (3.0.12)\n",
            "Requirement already satisfied: regex!=2019.12.17 in /usr/local/lib/python3.7/dist-packages (from transformers->bert-extractive-summarizer) (2019.12.20)\n",
            "Requirement already satisfied: pyyaml>=5.1 in /usr/local/lib/python3.7/dist-packages (from transformers->bert-extractive-summarizer) (5.4.1)\n",
            "Requirement already satisfied: pyparsing>=2.0.2 in /usr/local/lib/python3.7/dist-packages (from packaging->transformers->bert-extractive-summarizer) (2.4.7)\n",
            "Requirement already satisfied: click in /usr/local/lib/python3.7/dist-packages (from sacremoses->transformers->bert-extractive-summarizer) (7.1.2)\n",
            "Requirement already satisfied: six in /usr/local/lib/python3.7/dist-packages (from sacremoses->transformers->bert-extractive-summarizer) (1.15.0)\n"
          ]
        },
        {
          "output_type": "stream",
          "name": "stderr",
          "text": [
            "Some weights of the model checkpoint at bert-large-uncased were not used when initializing BertModel: ['cls.predictions.transform.LayerNorm.weight', 'cls.seq_relationship.bias', 'cls.predictions.bias', 'cls.seq_relationship.weight', 'cls.predictions.transform.LayerNorm.bias', 'cls.predictions.transform.dense.bias', 'cls.predictions.decoder.weight', 'cls.predictions.transform.dense.weight']\n",
            "- This IS expected if you are initializing BertModel from the checkpoint of a model trained on another task or with another architecture (e.g. initializing a BertForSequenceClassification model from a BertForPreTraining model).\n",
            "- This IS NOT expected if you are initializing BertModel from the checkpoint of a model that you expect to be exactly identical (initializing a BertForSequenceClassification model from a BertForSequenceClassification model).\n"
          ]
        },
        {
          "output_type": "stream",
          "name": "stdout",
          "text": [
            "processing 5 event\n",
            "processing 10 event\n",
            "processing 15 event\n",
            "processing 20 event\n",
            "processing 25 event\n",
            "processing 30 event\n",
            "processing 35 event\n",
            "processing 40 event\n",
            "processing 45 event\n",
            "processing 50 event\n",
            "processing 55 event\n",
            "processing 60 event\n",
            "processing 65 event\n",
            "processing 70 event\n",
            "processing 75 event\n",
            "processing 80 event\n",
            "processing 85 event\n"
          ]
        }
      ]
    },
    {
      "cell_type": "code",
      "metadata": {
        "id": "qFdpjf7bEvqr"
      },
      "source": [
        "with open('drive/MyDrive/Colab Notebooks/event_timeline_generation/news-tls data/CWMG/json_CWMG_letters_event_data.json', 'w') as content:\n",
        "    json.dump(predicted_dic, content, indent=4)"
      ],
      "execution_count": null,
      "outputs": []
    },
    {
      "cell_type": "code",
      "metadata": {
        "colab": {
          "base_uri": "https://localhost:8080/"
        },
        "id": "GvSh8B0twTi1",
        "outputId": "5414df07-c010-4a9f-8dde-6f16d0ecd261"
      },
      "source": [
        "import json\n",
        "with open('/content/drive/MyDrive/Colab Notebooks/event_timeline_generation/news-tls data/CWAL/letters/timelines.jsonl',  encoding='utf-8') as f:\n",
        "    jsonl_content = f.read()\n",
        "    \n",
        "ground_truths = [json.loads(jline) for jline in jsonl_content.splitlines()]\n",
        "\n",
        "ground_truth_dic = {}\n",
        "for gt in ground_truths:\n",
        "    if gt != []:\n",
        "        for item in gt:\n",
        "            # dic[item[0]] = item[1]\n",
        "            events = ''\n",
        "            for ev in item[1]:\n",
        "                events += str(ev)\n",
        "            ground_truth_dic[datetime.datetime.strptime(item[0].split(\"T\")[0], \"%Y-%m-%d\").date()] = events\n",
        "\n",
        "print(ground_truth_dic)\n"
      ],
      "execution_count": null,
      "outputs": [
        {
          "output_type": "stream",
          "name": "stdout",
          "text": [
            "{datetime.date(1848, 1, 1): \"['Last year he presided at the convention which nominated the democratic candidate for congress in this District and afterwards ran for the state Senate himself , not desiring the seat , but avowedly to aid and strengthen his party .']\", datetime.date(1848, 9, 12): \"['Taylor, making his chief theme the fashionable statement of all those who oppose him, the old Locofocos as well as the new that he has no principles, and that the whig party have abandoned their principles by adopting him as their candidate', 'Mr. Lincoln proceeded to rally the Buffalo Convention 4 for forbearing to say anything after all the previous declarations of those members who were formerly Whigs on the subject of the Mexican war , because the Van Burens had been known to have supported it .', 'He declared that of all the parties asking the confidence of the country , this new one had less of principle than any other .', 'He wondered whether it was still the opinion of these Free Soil gentlemen , as declared in the whereas at Buffalo , that the whig and democratic parties were both entirely dissolved and absorbed into their own body .', 'Had the Vermont election given them any light They had calculated on making as great an impression in that State as in any part of the Union, and there their attempts had been wholly ineffectual', 'Their failure there was a greater success than they would find in any other part of the Union .', 'Gen. Taylor had been constantly , perseveringly , quietly standing up , doing his duty , and asking no praise or reward for it .', 'Mr. Lincoln then went into a terse though rapid review of the origin of the Mexican war and the connection of the administration and of General Taylor with it , from which he deduced a strong appeal to the Whigs present to do their duty in the support of General Taylor , and closed with the warmest aspirations for and confidence in a deserved success .']\", datetime.date(1848, 9, 14): \"['A full and enthusiastic meeting of this Club was held last evening at Washingtonian Hall , Bromfield street .', 'He defended General Taylor from the charge that he had no principles, by showing conclusively that his avowed and well known principles were, that the people s will should be obeyed, and not frustrated by Executive usurpation and the interposition of the veto power', 'He pointed out the absurdity of men who professed Whig principles supporting Van Buren, with all his Locofocoism, while the Whigs were as much opposed to the extension of slavery as were the Van Buren party']\", datetime.date(1848, 9, 16): \"['It was replete with good sense, sound reasoning, and irresistible argument, and spoken with that perfect command of manner and matter which so eminently distinguishes the Western orators']\", datetime.date(1848, 9, 21): \"['General Taylor, he argued, has principles, though he has not given expression to them on the Tariff, Bank and other questions of policy', 'This , however , is in direct contradiction of Taylor , himself , who in his letter to Delany writes ,']\", datetime.date(1848, 10, 6): \"['Lincoln s speech occupied about two hours, which time he devoted to a most earnest, candid and logical examination of the great questions involved in the present Presidential canvass', 'During his speech he introduced several humorous, but very appropriate illustrations']\", datetime.date(1848, 10, 21): \"['Lincoln spent his first hour in persecuting his free negro friends , that their object of promoting freedom would be easier and better attained by voting for Taylor , the owner of three hundred negro slaves , because Taylor would not veto the Wilmot proviso if passed by Congress .', 'Mr. Lincoln in his second hour , made a weak attempt at a justification of his course , but the flood of authorities thrust upon him by Mr. McConnel , were evidently new to him . . . .', 'Mr. Lincoln charged that Mr. Polk had constantly been trying to drive Wentworth 3 to vote upon certain subjects in accordance with the democratic platform , and to misrepresent his constituents and vote contrary to their wishes .']\", datetime.date(1848, 12, 8): \"['Herewith I send you a document of Information c. which you can examine and then if you think fit , to file a caveat , you can send me a description and drawing of your invention or improvement together with 20 in money , and I will file it for you .']\", datetime.date(1848, 12, 24): \"['I very cheerfully send you the twenty dollars , which sum you say is necessary to save your land from sale .']\", datetime.date(1848, 12, 25): \"['Herndon showed me a couple of letters of yours concerning your note against Judge Browne .']\", datetime.date(1849, 1, 10): \"['Be it enacted by the Senate and House of Representatives of the United States of America , in Congress assembled That no person not now within the District of Columbia , nor now owned by any person or persons now resident within it , nor hereafter born within it , shall ever be held in slavery within said District .', 'That for all the purposes of this act the jurisdictional limits of Washington are extended to all parts of the District of Columbia not now included within the present limits of Georgetown .']\", datetime.date(1849, 1, 15): \"['We have the news here , that Shields 4 was nominated for the Senate , from which we infer , that he was elected , as a matter of course .']\", datetime.date(1849, 2, 2): \"['The accompanying article is from the Illinois Journal , 2 our leading whig paper and while it expresses what all , 3 the whigs of the Legislatures of Illinois , Iowa , and Wisconsin have expressed a preference for Col . Baker']\", datetime.date(1849, 2, 13): \"['If he understood those objections , the first was , that if the bill were to become a law , it would be used to lock large portions of the public lands from sale , without at last effecting the ostensible object of the bill the construction of railroads in the new States and secondly , that Congress would be forced to the abandonment of large portions of the public lands to the States for which they might be reserved , without their paying for them .']\", datetime.date(1849, 2, 17): \"['Your letter , enclosing the papers for Bounty land Extra pay for Mrs. Eliza Pearson , was received saturday night .']\", datetime.date(1849, 2, 20): \"['This is tuesday evening , and your letter enclosing the one of Young Brothers 2 to you , saying the money you sent by me to them had not been received , came to hand last saturday night .']\", datetime.date(1849, 3, 10): \"['That your petitioner has invented a new and improved manner of combining adjustable buoyant chambers with steam boats or other vessels which has not , as he verily believes been heretofore used or known , and that he is desirous that Letters Patent of the United States may be granted to him therefor , securing to him and to his legal representatives , the exclusive right of making and using , and of vending to others the privilege to make or use , the same , agreeably to the provisions of the Acts of Congress in that case made and provided , he having paid thirty dollars into the Treasury of the United States , and complied with other provisions of the said Acts .', 'The buoyant chambers are suspended and operated as follows a suitable number of vertical shafts or']\", datetime.date(1849, 4, 1): \"['April I wrote you recommending Turner R. King for Register , and Walter Davis for Receiver .']\", datetime.date(1849, 4, 7): \"['Located at the Seat of Government of the State , he has been , for part , if not the whole of the time he has held the office , a member of the Democratic State Central Committee , signing his name to their addresses and manifestos and has been , as I understand , re appointed by Mr. Polk since Gen Taylor s election .']\", datetime.date(1849, 4, 25): \"['In the first place , what you say about Lisle Smith , 4 is the first intimation I have had of any one man in Illinois desiring Butterfield to have any office .', 'He fought for Mr. Clay against Gen Taylor to the bitter end as I understand']\", datetime.date(1849, 5, 7): \"['Not one man recommended by me has yet been appointed to any thing , little or big , except a few who had no opposition .']\", datetime.date(1849, 5, 10): \"['Immediately he commenced an assault upon King s character , intending as I suppose , to defeat his appointment , and thereby secure another chance for himself .', 'After the unjust assault upon him , and considering the just claims of Tazewell county , as indicated in the letters I enclose you , it would , in my opinion , be injustice , and withall , a blunder , not to appoint him , at least as soon as any one is appointed to either of the offices here .']\", datetime.date(1849, 5, 16): \"['The defection of Tyler came , and then B. played off and on , and kept the office till after Polk s election .']\", datetime.date(1849, 5, 18): \"['In the great contest of 40 he was not seen or heard of but when the victory came , three or four old drones , including him , got all the valuable offices , through what influence no one has yet been able to tell .']\", datetime.date(1849, 6, 15): \"['I answer I am as strongly recommended by Ohio and Indiana , as well as Illinois and further , that when the many appointments were made for Ohio , as for the Northwest , Illinois was not consulted .']\"}\n"
          ]
        }
      ]
    },
    {
      "cell_type": "code",
      "metadata": {
        "colab": {
          "base_uri": "https://localhost:8080/"
        },
        "id": "UFsNU-oWJfd4",
        "outputId": "b875e8a9-a954-48c4-cae9-76de6143acbe"
      },
      "source": [
        "res_dic = {}\n",
        "\n",
        "\n",
        "for index, row in event_data.iterrows():\n",
        "    try:\n",
        "        res_dic[datetime.datetime.strptime(row['date'].split(\"T\")[0], \"%Y-%m-%d\").date()].append(str(row['event']))\n",
        "    except:\n",
        "        res_dic[datetime.datetime.strptime(row['date'].split(\"T\")[0], \"%Y-%m-%d\").date()] = [str(row['event'])]\n",
        "\n",
        "response_dic = {}\n",
        "\n",
        "for date, events in res_dic.items():\n",
        "    response_dic[date] = \" \".join(events)\n",
        "\n",
        "# for index, row in event_data.iterrows():\n",
        "#     try:\n",
        "#         response_dic[datetime.datetime.strptime(row['date'].split(\"T\")[0], \"%Y-%m-%d\").date()].append(str(row['event']))\n",
        "#     except:\n",
        "#         response_dic[datetime.datetime.strptime(row['date'].split(\"T\")[0], \"%Y-%m-%d\").date()] = str(row['event'])\n",
        "\n",
        "\n",
        "print(response_dic)"
      ],
      "execution_count": null,
      "outputs": [
        {
          "output_type": "stream",
          "name": "stdout",
          "text": [
            "{datetime.date(1848, 12, 24): ' A. LINCOLN My dear father Washington , Decr . 24th . Your letter of the 7th . While I was at Springfield last fall , Yours truly A Lincoln Yours as ever A. LINCOLN . A. LINCOLN .', datetime.date(1848, 9, 12): ' But , the question of the extension of slavery to new territories of this country , is a part of our responsibility and care , and is under our control . They therefore had taken a position calculated to break down their single important declared object . They were working for the election of either Gen. Cass or Gen. Taylor . Mr. Kellogg 2 then introduced to the meeting the Hon . Mr. Lincoln has a very tall and thin figure , with an intellectual face , showing a searching mind , and a cool judgment . But since there was no fixed law on the subject , and since the whole probable result of their action would be an assistance in electing Gen. CASS , he must say that they were behind the Whigs in their advocacy of the freedom of the soil . He had never failed in anything he had undertaken , although many of his duties had been considered almost impossible . Mr. Lincoln then went into a terse though rapid review of the origin of the Mexican war and the connection of the administration and of General Taylor with it , from which he deduced a strong appeal to the Whigs present to do their duty in the support of General Taylor , and closed with the warmest aspirations for and confidence in a deserved success .', datetime.date(1848, 9, 15): ' BOSTON WHIG CLUB . A full and enthusiastic meeting of this Club was held last evening at Washingtonian Hall , Bromfield street . They were addressed by the Hon . Abraham Lincoln , of Illinois , in a speech of an hour and a half , which , for sound reasoning , cogent argument and keen satire , we have seldom heard equalled . He pointed out the absurdity of men who professed Whig principles supporting Van Buren , with all his Locofocoism , while the Whigs were as much opposed to the extension of slavery as were the Van Buren party . His remarks were frequently interrupted by rounds of applause . It was a glorious meeting .', datetime.date(1848, 9, 16): ' His speech was interrupted by the cheers of the audience , evincing the truth of the great supposition that the dead can speak . Mr. Woodman 2 introduced the Hon . He disabused the public of the erroneous suppositions that Taylor was not a Whig that Van Buren was anything more than a thorough Locofoco , on all subjects other than Free Territory , and hardly safe on that and showed up , in a masterly manner , the inconsistency and folly of those Whigs , who , being drawn off from the true and oldest free soil organization known among the parties of the Union , would now lend their influence and votes to help Mr. Van Buren into the Presidential chair .', datetime.date(1848, 9, 21): ' The proof he gave was the fact that some of the same individuals who supported Van Buren in 1844 had since voted both for Texas and war . y. But why should Van Buren be held responsible for all his friends Where is the proof that he ever favored the extension of slavery in all his life Is General Taylor responsible for all who now support him To show the recklessness and audacity of the honorable gentleman and the low estimate he had formed of his hearers , it will suffice to give but one specimen . it was therefore acquiesced in by the people and consequently Taylor was bound not to veto it . There would have been a gap in it , so the lie was made big enough to fill the gap that the argument might thereby be made sound and conclusive . , 2 at Union Hall , by an address from the Hon . But these lines can not be broken down unless every man is willing to sacrifice his attachment to minor questions and make opposition to slavery the leading idea therefore , we have come out of the old pro slavery parties and formed the United Party of the North .', datetime.date(1848, 9, 25): ' In that long long time , never still for a single moment . Never dried , never froze , never slept , never rested ,', datetime.date(1848, 10, 6): ' In this he resorted to no special pleading , but with well arranged and pertinent facts , and sincere arguments he fully demonstrated it . During his speech he introduced several humorous , but very appropriate illustrations . It is , however , due the truth , to say that Orville Paddock , 3 above recommended , is every way qualified for the office and that the persons recommending him , are of our business men , and best whig citizens .', datetime.date(1848, 10, 21): ' . of January He asked if Mr. Lincoln did not know when he gave that vote that he was misrepresenting the wishes of the patriotic people of this district , and did he do so by the influence of Mr. Polk or some whig leader . No , I did not know it , and don t believe it yet . . . . . Gents On Friday night , Mr. Lincoln , member of Congress from this district , had an appointment to speak in Jacksonville , but gave way to the other branch of the whig family the barnburner abolition free negro party . On Saturday night , he renewed his appointment , Page 12 and Mr. McConnel , 2 having arrived from the north , gave notice that he would be with him . The debators were confined to an hour each . . . . Mr. Lincoln in his second hour , made a weak attempt at a justification of his course , but the flood of authorities thrust upon him by Mr. McConnel , were evidently new to him . . . . At the close of this debate a rather exciting scene occurred . Mr. Lincoln charged that Mr. Polk had constantly been trying to drive Wentworth 3 to vote upon certain subjects in accordance with the democratic platform , and to misrepresent his constituents and vote contrary to their wishes . Mr. McConnel denied the charge , and called on Lincoln for his authority .', datetime.date(1849, 6, 15): ' His main purpose was to show that the peace and prosperity of the country , and the limitation of slavery depended upon the election of a Whig Congress and Gen. Taylor that the Old Hero , whose fidelity to whig principles none should now doubt , had pledged himself to carry out the will of the people , through their representatives , without interposing the veto power . Last year he presided at the convention which nominated the democratic candidate for congress in this District and afterwards ran for the state Senate himself , not desiring the seat , but avowedly to aid and strengthen his party . Last night I received letters from different persons at Washington assuring me it was not improbable that Justin Butterfield , Page 49 of Chicago , Ills , would be appointed Commissioner of the Genl . I answer I am as strongly recommended by Ohio and Indiana , as well as Illinois and further , that when the many appointments were made for Ohio , as for the Northwest , Illinois was not consulted . When an Indianian was nominated for Governor of Minnesota , and another appointed for Commissioner of Mexican claims , as for the Northwest , Illinois was not consulted .', datetime.date(1848, 11, 27): ' Your letter of November 27 , was here for me when I arrived on yesterday . Dear Sir Washington , Decr .', datetime.date(1849, 1, 5): ' Dear William Washington , January 5 . 1849 Mr. C. U. Schlater Washington Dear Yours as ever A. LINCOLN P. S. Let the above be confidential', datetime.date(1849, 1, 15): ' Dear Sir Washington , January 15 . 1849 Dear Bennett Washington , Jan 15 1849 .', datetime.date(1849, 1, 27): ' Yours truly A. LINCOLN Gentlemen Jan 22 . Yours truly Then came the above accompanying , which you will readily understand A. LINCOLN To John Murray 1 Yours as ever A. LINCOLN', datetime.date(1849, 2, 6): ' Yours truly A. LINCOLN I know Mr. Asahel Thayer , 2 and have the impression that he is not able to pay any thing . Your Obt . A. LINCOLN That was all he desired to say .', datetime.date(1849, 2, 19): ' Your letter , enclosing the papers for Bounty land Extra pay for Mrs. Eliza Pearson , was received saturday night . Yours as ever A. LINCOLN To William Brown and Richard Yates 1 Messrs. Brown Yates Washington , Gentlemen February 19 . 1849', datetime.date(1849, 2, 20): ' It so happens that Mr. Yeatman is now in this city To Charles R. Welles 1 C. R. Welles , Esq . Dear Sir Feb 20 . To Joshua F. Speed 1 Dear Speed Washington , Feb 20 . 1849 . I had a great many jobs to do in St. Louis and by the very extra care I had taken of yours , overlooked it . I then began to cast about for some safe hand to send it back by .', datetime.date(1849, 3, 8): ' To Thomas Ewing 1 Hon Thomas Ewing Washington , Secretary of the Home Department March 9 . 1849 Hon John M. Clayton Washington , Secretary of State . March 8 . To John M. Clayton b Hon John M. Clayton Washington , Secretary of State . March 8 .', datetime.date(1849, 3, 9): ' Your Obt . A. LINCOLN Hon Secretary of the Treasury . 9 . 1849 .', datetime.date(1849, 3, 10): ' To John M. Clayton 1 COPY . Your Obt . 2 A. LINCOLN . County of Washington District of Columbia SS .', datetime.date(1849, 3, 20): ' Your obt . A. LINCOLN . Your Obt . A. LINCOLN 2 Hon . J. M. Clayton . To John M. Clayton 1 Hon J. M. Clayton St. Louis , Mo. Secretary of State March 26 .', datetime.date(1849, 4, 1): ' If new appointment is made . c. April , 1849 Petition For Appointment of Robert Allen 1 c. April , 1849', datetime.date(1849, 4, 7): ' A. LINCOLN Your Obt . A. LINCOLN I can not say that Mr. Herndon , b FOOTNOTES 2 the present incumbent , has failed in the proper discharge of any of the duties of the office . Your Obt . He , however , has been an active partizan in opposition to us . To William B. Warren and Others 1 Gentlemen Springfield , Ills . April 7 . Your Obt . A. L.', datetime.date(1849, 4, 10): ' They are a great distance from me , and not in my district so that my information is too limited to enable me to speak properly on the question . Your Obt . Dear Sir April 10 . A. LINCOLN', datetime.date(1849, 4, 13): ' Your Obt . A. LINCOLN Your Obt . To Thomas Ewing 1 Hon Secretary of the Home Department Springfield , Ills .', datetime.date(1849, 4, 26): ' Yours as ever A. LINCOLN To Thomas Ewing 1 Hon Secretary of Home Department Springfield , Ills . To Josiah M. Lucas 1 J. M. Lucas , Esq Springfield Ills . Your Obt . Servt .', datetime.date(1849, 5, 1): ' Hon . Your friend as ever A. LINCOLN Your letter of the 25th . Very truly Yours A. LINCOLN', datetime.date(1849, 5, 10): ' A. LINCOLN To Thomas Ewing 1 Hon Secretary of the Interior Springfield , Ills . Dear Sir May 10th . His high character enables him to do this more effectually . Your Obt .', datetime.date(1849, 5, 16): ' The place he got was that of District Attorney . Dear Sir May 13 . Your Obt . A. LINCOLN Your Obt . Dear Sir May 16 . Your Obt . A. LINCOLN But now for the objections .', datetime.date(1849, 1, 1): ' To Joseph Gillespie 1 Dear Gillespie Springfield , Ills . May 19 . 1849 To Duff Green 1 Dear General Springfield , Ills . May 18 .', datetime.date(1849, 6, 3): ' A. LINCOLN To Willie P. Mangum 1 Hon Willie P. Mangum Springfield , Ills . Dear Sir June 4th . Yours truly A. LINCOLN A. LINCOLN To Duff Green 1 Dear Sir Springfield Ills . Yours truly A. LINCOLN Yours in haste A. LINCOLN To James M. McLean 1 Dear Sir . Dear Sir . May 25 .', datetime.date(1849, 6, 19): ' To Thomas Ewing 1 COPY . Hon . T. Ewing , Washington , Secretary , c. ALS , DLC . On the preceding day , Justin Butterfield had been appointed commissioner of the General Land Office by President Taylor .', datetime.date(1849, 7, 9): ' R.W. Thompson or Hon . Servt A. LINCOLN To John M. Clayton 1 Hon . Dear Sir . Your Obt Servt A. LINCOLN To Thomas Ewing 1 Springfield , Ills . Hon .', datetime.date(1849, 7, 13): ' Yours as ever A. LINCOLN To John Addison 1 Dear Addison Springfield , Ills . July 22 . I first determined to be an applicant , unconditionally , on the 2nd . To Joseph Gillespie 1 Dear Gillespie Springfield , Ills , July 13th . 1849 To James Berdan 1 James Berdan , Esq Springfield , My dear Sir July 22 . 1849 July 9 . 1849 I believe no such thing . I was surprised to find amongst them no letter from Hon .', datetime.date(1849, 7, 28): ' Your Ob t Sev t A. LINCOLN To Thomas Ewing 1 Springfield , Ills . He is tired , and has a right to be . Servt A. LINCOLN Servt A. LINCOLN To John M. Clayton 1 Hon . J. M. Clayton . This must be arrested , or it will damn us all inevitably .', datetime.date(1849, 8, 21): ' To John M. Clayton 1 Hon Secretary of State Springfield , Dear Sir August 12 . To John M. Clayton 1 Hon J. M. Clayton , Springfield , Illinois , Secretary of State . August 21st . His good business habits are proved by the facts , that the paper has existed eighteen years , all the time weekly , and part of it , tri weekly , and daily , and has not failed to issue regularly in a single instance . and I think his appointment would give general satisfaction Your Obt . The present letter is marked Rec d 29 Resolved , That in the opinion of this meeting , the immediate acknowledgment of the independence of Hungary by our government , is due from American freemen , to their struggling brethren , to the general cause of Republican liberty , and not a violation of the just rights of any Nation or people .', datetime.date(1849, 9, 12): ' Your Obt . A. LINCOLN Dear Judge Springfield , Ills . September 12 . 1849', datetime.date(1849, 9, 14): ' Give my respects to your father and mother , and believe me ever Your friend A. LINCOLN Yours as ever , A. LINCOLN . May I request you to express my gratitude to the President , for these repeated evidences of his kindness and confidence Your Obt Sevt A. LINCOLN Yours as ever A. LINCOLN', datetime.date(1849, 9, 15): ' Sir Understanding that Simeon Francis , of this city would accept the office of Secretary of the Teritory of Oregon , and that his name has been presented to you for that appointment , we most cheerfully join in bearing testimony to his worth and qualifications , and in the expression of a desire that the place may be conferred upon him . John T. Stuart Ben Bond Turner R. King A. Y. Ellis Walter Davis Wm . S. Wallace . John T. Stuart , Whig member of the 26th . 27th . Congresses . Turner R. King Present Register of the Land office here . Walter Davis Present Receiver of Public Monies here . Ben Bond Present U.S. Marshal of this state . A. Y. Ellis Present Post Master here Wm . LINCOLN To John M. Clayton 1 Hon J. M. Clayton Springfield , Illinois , Secretary of State September 15th .', datetime.date(1849, 9, 27): ' To John M. Clayton 1 Hon J. M. Clayton Springfield , Illinois . Secretary of State September 27 . Springfield , Illinois , Secretary of State September 16 1849 o Thomas Ewing 1 Tremont , Illinois , September 23 . To John Addison 1 Springfield , Illinois , John Addison , Esq .', datetime.date(1849, 11, 25): ' Your Obt . Your Obt . Your Obt . Your Obt . A. LINCOLN Thos . Your ob t serv t , A. LINCOLN . To John M. Clayton 1 Hon J. M. Clayton . Springfield , Ills . You may perhaps remember his name , as that of the first person in whose behalf I made an appeal to you immediately after the inaugeration of Genl .', datetime.date(1849, 11, 5): ' To William B. Preston 1 Hon W. B. Preston Lexington , Ky. Secretary of the Navy . November 5 . Ewing Springfield November 17th . To Josiah M. Lucas 1 J. M. Lucas Springfield , Dear Sir November 17 . 1849 I have been from home a month , so that your letter of the 17th .', datetime.date(1850, 1, 29): ' To Sylvester Emmons 1 S. Emmons , Esq Springfield , Dear Sir Feb 9 . 1850 The President of the U.S. January 25 1850 . Page 72To Orville H. Browning 1 Dear Browning Springfield , January 29 1850'}\n"
          ]
        }
      ]
    },
    {
      "cell_type": "code",
      "metadata": {
        "id": "RFZxuf9gJFmx",
        "colab": {
          "base_uri": "https://localhost:8080/"
        },
        "outputId": "90523766-65ba-440a-b7be-84261068a127"
      },
      "source": [
        "new_res_dic = {}\n",
        "\n",
        "start = list(ground_truth_dic)[0]\n",
        "end = list(ground_truth_dic)[-1]\n",
        "for k, v in predicted_dic.items():\n",
        "    if k >= start and k <= end:\n",
        "        new_res_dic[k] = v \n",
        "\n",
        "new_res_dic"
      ],
      "execution_count": null,
      "outputs": [
        {
          "output_type": "execute_result",
          "data": {
            "text/plain": [
              "{datetime.date(1848, 1, 1): 'Last year he presided at the convention which nominated the democratic candidate for congress in this District and afterwards ran for the state Senate himself , not desiring the seat , but avowedly to aid and strengthen his party .',\n",
              " datetime.date(1848, 9, 12): 'Mr. Kellogg 2 then introduced to the meeting the Hon .Abram Lincoln , whig member of Congress from Illinois , a representative of free soil .Mr. Lincoln then went into a terse though rapid review of the origin of the Mexican war and the connection of the administration and of General Taylor with it , from which he deduced a strong appeal to the Whigs present to do their duty in the support of General Taylor , and closed with the warmest aspirations for and confidence in a deserved success .At the close of this truly masterly and convincing speech , the audience gave three enthusiastic cheers for Illinois , and three more for the eloquent Whig member from that State .',\n",
              " datetime.date(1848, 9, 15): 'BOSTON WHIG CLUB .They were addressed by the Hon .His remarks were frequently interrupted by rounds of applause .As soon as he had concluded , the audience gave three cheers for Taylor and Fillmore , and three more for Mr. Lincoln , the Lone Star of Illinois , and then adjourned .It was a glorious meeting .',\n",
              " datetime.date(1848, 9, 16): 'Mr. Woodman 2 introduced the Hon .Abraham Lincoln , of Illinois .His speech was interrupted by the cheers of the audience , evincing the truth of the great supposition that the dead can speak .',\n",
              " datetime.date(1848, 9, 20): 'The Taylor men were well entertained Wednesday evening , the 20th inst .',\n",
              " datetime.date(1848, 9, 25): 'Niagara FallsHe will estim ate with approximate accuracy , that five hundred thousand to ns of water , falls with it s full weight , a distance of a hundred feet each minute thus exerting a force equal to the lifting of the same weight , through the same space , in the same time .',\n",
              " datetime.date(1848, 10, 6): 'During his speech he introduced several humorous , but very appropriate illustrations .',\n",
              " datetime.date(1848, 10, 20): 'Gents On Friday night , Mr. Lincoln , member of Congress from this district , had an appointment to speak in Jacksonville , but gave way to the other branch of the whig family the barnburner abolition free negro party .',\n",
              " datetime.date(1848, 10, 21): '.To this Lincoln said he would have no objection , if there were not other questions about which Taylor and Van Buren disagreed .Mr. McConnel denied the charge , and called on Lincoln for his authority .Mr. McConnel then took up a copy of the journal of the House of Representatives .He asked if Mr. Lincoln did not know when he gave that vote that he was misrepresenting the wishes of the patriotic people of this district , and did he do so by the influence of Mr. Polk or some whig leader .In the midst of the shower of fire that fell around him , Lincoln cried out ,Lincoln crouched in silence beneath the blows that fell thick and fast around him , and his friends held down their heads with shame .Yours , c. , J. H.',\n",
              " datetime.date(1848, 12, 8): 'I also received the one addressed me at Springfield butPage 15 seeing I could do nothing in the matter then there , and being very busy with the Presidential election , I threw it by , and forgot it .',\n",
              " datetime.date(1848, 12, 24): 'To Thomas Lincoln and John D. Johnston 12 was received night before last .',\n",
              " datetime.date(1849, 1, 4): 'A. Lincoln and Oliver Dieffendorf 2 and made oath that they were well acquainted with Joseph Newman , deceased , who was a private in Col . Baker s regiment of Illinois volunteers who died in Mexico , in Battle , and also with Henry Newman , his father , of Sangamon County ,',\n",
              " datetime.date(1849, 1, 10): 'Mr. LINCOLN appealed to his colleague Mr. WENTWORTH 2 to withdraw his motion , to enable him to read a proposition which he intended to submit , if the vote should be reconsidered .Mr. WENTWORTH again withdrew his motion for that purpose .Mr.',\n",
              " datetime.date(1849, 1, 11): 'To James M. McLean 1 Friend McLean Washington , Jan 11 .',\n",
              " datetime.date(1849, 1, 19): 'M. Black , 2 for Register of the Land office at Vandalia , is received .',\n",
              " datetime.date(1849, 1, 22): 'To Joseph Gales and William W. Seaton 1 Messrs Gales Seaton House of RepresentativesGentlemen Jan 22 .',\n",
              " datetime.date(1849, 2, 2): 'To William Schouler 1 Friend Schooler Washington , February 2 .',\n",
              " datetime.date(1849, 2, 6): 'Besides his brother Martin Thayer , of Philadelphia , he has a brother , Joseph Thayer , at Springfield , Illinois , who is pecuniarily , in good circumstances .Servt .A. LINCOLN',\n",
              " datetime.date(1849, 2, 17): 'Your letter , enclosing the papers for Bounty land Extra pay for Mrs. Eliza Pearson , was received saturday night .',\n",
              " datetime.date(1849, 2, 19): 'To William Brown and Richard Yates 1Messrs. Brown Yates Washington , Gentlemen February 19 .',\n",
              " datetime.date(1849, 2, 20): 'The reason is , that McGaughey , 7 an Indiana ex member of congress is here after it and being personally known , he will be hard to beat by any one who is not .A. L.To Charles R. Welles 1 C. R. Welles , Esq .Mr. Yeatman , 3 Judge Pope s son in law , and step son of Mr. Bell of Tennessee , was on board , and was to return immediately to St. Louis from the Mouth of Cumberland .At my request , he took thePage 30 letter and promised to deliver it',\n",
              " datetime.date(1849, 3, 8): 'Hon John M. Clayton Washington , Secretary of State .March 8 .Servt .To John M. Clayton b Hon John M. Clayton Washington , Secretary of State .March 8 .A. LINCOLN',\n",
              " datetime.date(1849, 3, 9): 'To Thomas Ewing 1 Hon Thomas Ewing Washington , Secretary of the Home Department March 9 . E. D. Baker and myself are the only Whig members of congress from Illinois I , of the 30th .he of the 31st .Servt .A. LINCOLN',\n",
              " datetime.date(1849, 3, 10): 'Application for Patenton an Improved Method of Lifting Vessels over Shoals 1 March 10 , 1849 To the Commissioner of Patents .County of Washington District of Columbia SS .Fig .1 . is a transverse section of the same with the buoyant chambers contracted .Fig .The sides of the chambers may be stayed and supported centrally by a frame k , as shown in Fig .The buoyant chambers are suspended and operated as follows a suitable number of vertical shafts orspars D.D. are combined with each of the chambers , as represented in Fig .The vertical shaft D.D. are connected to the main shaft C , which passes longitudinally through the centre of the vessel just below its upper deck , by endless ropes f. f. as represented in Fig 2 the said ropes f.f . of Carlyle , and Thomas , 2 Esq , of Galena .Servt .A. LINCOLN Endorsed on Mr. Bond s papersA. LINCOLN',\n",
              " datetime.date(1849, 3, 26): 'To John M. Clayton 1 Hon J. M. Clayton St. Louis , Mo. Secretary of State March 26 .Servt .To John M. Johnson1 c.March 26 , 1849Post Master of the H.R. St. Louis ,Servt .',\n",
              " datetime.date(1849, 4, 1): 'Petition For Appointment of Robert Allen 1c. April , 1849The undersigned Members of the Bar of the State of Illinois desire and would respectfully recommend Col Robert Allen the appointment of U S Marshal for the District of Illinois aforesaid A. LincolnIf new appointment is made .April I wrote you recommending Turner R. King for Register , and Walter Davis for Receiver .',\n",
              " datetime.date(1849, 4, 7): 'Hon Post Master General Springfield , Ills .He , however , has been an active partizan in opposition to us .Servt .A. L.To Thomas Ewing 1 Hon Secretary of the Home Department Springfield , Ills , Dear Sir April 7 . 1849This office is not confined to my District , but pertains to the whole state so that Col .Servt .A. LINCOLNTo Thomas Ewing b Hon Secretary of the Home Department Springfield , Ills .Servt .A. LINCOLN P.S.April 7 .A. LINCOLN',\n",
              " datetime.date(1849, 4, 10): 'To Thomas Ewing 1 Hon Secretary of the Home Department Springfield , Ills .J. L. D. Morrison , and R. B. Servant 2 are two good and true men residing in the districtServt .A. LINCOLN',\n",
              " datetime.date(1849, 4, 13): 'To Thomas Ewing 1 Hon Secretary of the Home Department Springfield , Ills .Inst .Servt .A. LINCOLN',\n",
              " datetime.date(1849, 4, 20): 'To William B. Preston 1 Hon W. B. Preston Springfield , Ills .Servt .A. LINCOLN',\n",
              " datetime.date(1849, 4, 25): 'To Josiah M. Lucas 1 J. M. Lucas , Esq Springfield Ills .April 25 , 1849 .',\n",
              " datetime.date(1849, 4, 26): 'To Thomas Ewing 1 Hon Secretary of Home Department Springfield , Ills .Servt .',\n",
              " datetime.date(1849, 5, 10): 'To Thomas Ewing 1 Hon Secretary of the Interior Springfield , Ills .On the 7th .At least one I think more of those who are now trying to have him retained , was himself an applicant for this very office and failing to get my recommendation , now takes this turn .Servt .A. LINCOLN',\n",
              " datetime.date(1849, 5, 13): 'Hon J. M. Clayton Springfield , Ills .Servt .A. LINCOLN',\n",
              " datetime.date(1849, 5, 15): 'Last night I received letters from different persons at Washington assuring me it was not improbable that Justin Butterfield , Page 49 of Chicago , Ills , would be appointed Commissioner of the Genl .',\n",
              " datetime.date(1849, 5, 16): 'To John M. Clayton 1 Hon Secretary of State Springfield , Ills .Several years ago Mr. Oliphant was a citizen of our town , and was a fellow soldier with us in the famed Black Hawk War .Servt .A. LINCOLNTo William B. Preston 1 Hon W. B. Preston Springfield , Ills .Land Office .Taylor nominated , this same man was ridiculing the idea , and going for Mr. Clay and when Gen T. was nominated , if he went out of the city of Chicago to aid in his election , it is more than I ever heard , or believe .Servt .A. LINCOLN',\n",
              " datetime.date(1849, 5, 19): 'May 19 .Butterfield will be Commissioner of the Genl .Land Office , unless prevented by strong and speedy efforts .',\n",
              " datetime.date(1849, 6, 3): 'To Thomas Ewing 1 Hon Secretary of the Interior Springfield , Ills .Servt .A. LINCOLNSpringfield June 3 .',\n",
              " datetime.date(1849, 6, 4): 'To Willie P. Mangum 1 Hon Willie P. Mangum Springfield , Ills .Servt .A. LINCOLN',\n",
              " datetime.date(1849, 6, 15): 'When an Indianian was nominated for Governor of Minnesota , and another appointed for Commissioner of Mexican claims , as for the Northwest , Illinois was not consulted .When a citizen of Iowa was appointed Second Assistant Postmaster General and another to a Land Office in Minnesota , Illinois was not consulted .'}"
            ]
          },
          "metadata": {},
          "execution_count": 12
        }
      ]
    },
    {
      "cell_type": "code",
      "metadata": {
        "colab": {
          "base_uri": "https://localhost:8080/"
        },
        "id": "e5Svr4ZiBV64",
        "outputId": "056d074e-d0e4-410e-a414-788d34004877"
      },
      "source": [
        "!chmod 777 -R /content/notebooks/pyrouge/\n",
        "\n",
        "\n",
        "evaluator = rouge.TimelineRougeEvaluator(measures=[\"rouge_1\", \"rouge_2\"])\n",
        "\n",
        "# predicted_timeline = timelines.Timeline(\n",
        "#     {datetime.date(2011, 1, 1): ['At least 21 dead and more than 70 injured after bomb explodes outside Coptic church in Alexandria']}\n",
        "# )\n",
        "\n",
        "# groundtruth = timelines.GroundTruth(\n",
        "#     [\n",
        "#         timelines.Timeline(\n",
        "#             {datetime.date(2011, 1, 5): ['At least 21 dead and more than 70 injured after bomb explodes outside Coptic church in Alexandria'],\n",
        "#              datetime.date(2011, 1, 2): [\"Egyptian President Hosni Mubarak 's announcement that he will serve out remaining term immediately rejected by angry crowds\"]}\n",
        "#         )\n",
        "#     ]\n",
        "# )\n",
        "predicted_timeline = timelines.Timeline(predicted_dic)\n",
        "\n",
        "groundtruth = timelines.GroundTruth(\n",
        "    [\n",
        "        timelines.Timeline(ground_truth_dic)\n",
        "    ]\n",
        ")\n",
        "\n",
        "pp = pprint.PrettyPrinter(indent=4)\n",
        "\n",
        "print(\"concat\")\n",
        "pp.pprint(evaluator.evaluate_concat(predicted_timeline, groundtruth))\n",
        "print(\"\")\n",
        "print(\"align, date-content costs\")\n",
        "pp.pprint(evaluator.evaluate_align_date_content_costs_many_to_one(predicted_timeline, groundtruth))\n"
      ],
      "execution_count": null,
      "outputs": [
        {
          "output_type": "stream",
          "name": "stdout",
          "text": [
            "concat\n",
            "{   'rouge_1': {   'f_score': 0.09016393442622951,\n",
            "                   'precision': 0.04721030042918455,\n",
            "                   'recall': 1.0},\n",
            "    'rouge_2': {   'f_score': 0.057851239669421496,\n",
            "                   'precision': 0.03017241379310345,\n",
            "                   'recall': 0.7}}\n",
            "\n",
            "align, date-content costs\n",
            "{   'rouge_1': {   'f_score': 0.019073309943589606,\n",
            "                   'precision': 0.010002914836517874,\n",
            "                   'recall': 0.20459480801500343},\n",
            "    'rouge_2': {'f_score': 0, 'precision': 0.0, 'recall': 0.0}}\n"
          ]
        }
      ]
    },
    {
      "cell_type": "code",
      "metadata": {
        "colab": {
          "base_uri": "https://localhost:8080/"
        },
        "id": "RTCYVm56JONK",
        "outputId": "45b19e1b-af67-4381-8d5e-721f33f76550"
      },
      "source": [
        "!perl /usr/local/lib/python3.7/dist-packages/pyrouge/tools/ROUGE-1.5.5/ROUGE-1.5.5.pl"
      ],
      "execution_count": null,
      "outputs": [
        {
          "output_type": "stream",
          "name": "stdout",
          "text": [
            "/usr/local/lib/python3.7/dist-packages/pyrouge/tools/ROUGE-1.5.5/ROUGE-1.5.5.pl\n",
            "         [-a (evaluate all systems)] \n",
            "         [-c cf]\n",
            "         [-d (print per evaluation scores)] \n",
            "         [-e ROUGE_EVAL_HOME] \n",
            "         [-h (usage)] \n",
            "         [-H (detailed usage)] \n",
            "         [-b n-bytes|-l n-words] \n",
            "         [-m (use Porter stemmer)] \n",
            "         [-n max-ngram] \n",
            "         [-s (remove stopwords)] \n",
            "         [-r number-of-samples (for resampling)] \n",
            "         [-2 max-gap-length (if < 0 then no gap length limit)] \n",
            "         [-3 <H|HM|HMR|HM1|HMR1|HMR2> (for scoring based on BE)] \n",
            "         [-u (include unigram in skip-bigram) default no)] \n",
            "         [-U (same as -u but also compute regular skip-bigram)] \n",
            "         [-w weight (weighting factor for WLCS)] \n",
            "         [-v (verbose)] \n",
            "         [-x (do not calculate ROUGE-L)] \n",
            "         [-f A|B (scoring formula)] \n",
            "         [-p alpha (0 <= alpha <=1)] \n",
            "         [-t 0|1|2 (count by token instead of sentence)] \n",
            "         [-z <SEE|SPL|ISI|SIMPLE>] \n",
            "         <ROUGE-eval-config-file> [<systemID>]\n"
          ]
        }
      ]
    }
  ]
}