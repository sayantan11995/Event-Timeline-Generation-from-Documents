{
  "cells": [
    {
      "cell_type": "code",
      "execution_count": null,
      "metadata": {
        "colab": {
          "base_uri": "https://localhost:8080/"
        },
        "id": "jb2opP5IMnqO",
        "outputId": "33997444-461b-41e1-d1dc-b6cdefb1f9c6"
      },
      "outputs": [
        {
          "name": "stdout",
          "output_type": "stream",
          "text": [
            "Drive already mounted at /content/drive/; to attempt to forcibly remount, call drive.mount(\"/content/drive/\", force_remount=True).\n",
            "/content\n"
          ]
        }
      ],
      "source": [
        "import os\n",
        "from google.colab import drive\n",
        "drive.mount('/content/drive/')\n",
        "print(os.getcwd())"
      ]
    },
    {
      "cell_type": "code",
      "execution_count": null,
      "metadata": {
        "colab": {
          "base_uri": "https://localhost:8080/"
        },
        "id": "P-ygQCUINrxj",
        "outputId": "4c12261f-4d8e-424c-ddc1-c7e23ec00c7a"
      },
      "outputs": [
        {
          "name": "stdout",
          "output_type": "stream",
          "text": [
            "Requirement already satisfied: sentence_transformers in /usr/local/lib/python3.7/dist-packages (2.1.0)\n",
            "Requirement already satisfied: transformers<5.0.0,>=4.6.0 in /usr/local/lib/python3.7/dist-packages (from sentence_transformers) (4.12.3)\n",
            "Requirement already satisfied: scipy in /usr/local/lib/python3.7/dist-packages (from sentence_transformers) (1.4.1)\n",
            "Requirement already satisfied: sentencepiece in /usr/local/lib/python3.7/dist-packages (from sentence_transformers) (0.1.96)\n",
            "Requirement already satisfied: tokenizers>=0.10.3 in /usr/local/lib/python3.7/dist-packages (from sentence_transformers) (0.10.3)\n",
            "Requirement already satisfied: huggingface-hub in /usr/local/lib/python3.7/dist-packages (from sentence_transformers) (0.1.1)\n",
            "Requirement already satisfied: torch>=1.6.0 in /usr/local/lib/python3.7/dist-packages (from sentence_transformers) (1.9.0+cu111)\n",
            "Requirement already satisfied: numpy in /usr/local/lib/python3.7/dist-packages (from sentence_transformers) (1.19.5)\n",
            "Requirement already satisfied: tqdm in /usr/local/lib/python3.7/dist-packages (from sentence_transformers) (4.62.3)\n",
            "Requirement already satisfied: scikit-learn in /usr/local/lib/python3.7/dist-packages (from sentence_transformers) (0.22.2.post1)\n",
            "Requirement already satisfied: nltk in /usr/local/lib/python3.7/dist-packages (from sentence_transformers) (3.2.5)\n",
            "Requirement already satisfied: torchvision in /usr/local/lib/python3.7/dist-packages (from sentence_transformers) (0.10.0+cu111)\n",
            "Requirement already satisfied: typing-extensions in /usr/local/lib/python3.7/dist-packages (from torch>=1.6.0->sentence_transformers) (3.7.4.3)\n",
            "Requirement already satisfied: regex!=2019.12.17 in /usr/local/lib/python3.7/dist-packages (from transformers<5.0.0,>=4.6.0->sentence_transformers) (2019.12.20)\n",
            "Requirement already satisfied: requests in /usr/local/lib/python3.7/dist-packages (from transformers<5.0.0,>=4.6.0->sentence_transformers) (2.23.0)\n",
            "Requirement already satisfied: pyyaml>=5.1 in /usr/local/lib/python3.7/dist-packages (from transformers<5.0.0,>=4.6.0->sentence_transformers) (6.0)\n",
            "Requirement already satisfied: importlib-metadata in /usr/local/lib/python3.7/dist-packages (from transformers<5.0.0,>=4.6.0->sentence_transformers) (4.8.1)\n",
            "Requirement already satisfied: packaging>=20.0 in /usr/local/lib/python3.7/dist-packages (from transformers<5.0.0,>=4.6.0->sentence_transformers) (21.0)\n",
            "Requirement already satisfied: sacremoses in /usr/local/lib/python3.7/dist-packages (from transformers<5.0.0,>=4.6.0->sentence_transformers) (0.0.46)\n",
            "Requirement already satisfied: filelock in /usr/local/lib/python3.7/dist-packages (from transformers<5.0.0,>=4.6.0->sentence_transformers) (3.3.0)\n",
            "Requirement already satisfied: pyparsing>=2.0.2 in /usr/local/lib/python3.7/dist-packages (from packaging>=20.0->transformers<5.0.0,>=4.6.0->sentence_transformers) (2.4.7)\n",
            "Requirement already satisfied: zipp>=0.5 in /usr/local/lib/python3.7/dist-packages (from importlib-metadata->transformers<5.0.0,>=4.6.0->sentence_transformers) (3.6.0)\n",
            "Requirement already satisfied: six in /usr/local/lib/python3.7/dist-packages (from nltk->sentence_transformers) (1.15.0)\n",
            "Requirement already satisfied: urllib3!=1.25.0,!=1.25.1,<1.26,>=1.21.1 in /usr/local/lib/python3.7/dist-packages (from requests->transformers<5.0.0,>=4.6.0->sentence_transformers) (1.24.3)\n",
            "Requirement already satisfied: certifi>=2017.4.17 in /usr/local/lib/python3.7/dist-packages (from requests->transformers<5.0.0,>=4.6.0->sentence_transformers) (2021.5.30)\n",
            "Requirement already satisfied: idna<3,>=2.5 in /usr/local/lib/python3.7/dist-packages (from requests->transformers<5.0.0,>=4.6.0->sentence_transformers) (2.10)\n",
            "Requirement already satisfied: chardet<4,>=3.0.2 in /usr/local/lib/python3.7/dist-packages (from requests->transformers<5.0.0,>=4.6.0->sentence_transformers) (3.0.4)\n",
            "Requirement already satisfied: joblib in /usr/local/lib/python3.7/dist-packages (from sacremoses->transformers<5.0.0,>=4.6.0->sentence_transformers) (1.0.1)\n",
            "Requirement already satisfied: click in /usr/local/lib/python3.7/dist-packages (from sacremoses->transformers<5.0.0,>=4.6.0->sentence_transformers) (7.1.2)\n",
            "Requirement already satisfied: pillow>=5.3.0 in /usr/local/lib/python3.7/dist-packages (from torchvision->sentence_transformers) (7.1.2)\n"
          ]
        }
      ],
      "source": [
        "!pip install sentence_transformers"
      ]
    },
    {
      "cell_type": "code",
      "execution_count": null,
      "metadata": {
        "id": "Qw8E64XnSyai"
      },
      "outputs": [],
      "source": [
        "import pandas as pd\n",
        "import numpy as np\n",
        "# import bcubed\n",
        "from sklearn.feature_extraction.text import TfidfVectorizer\n",
        "import matplotlib.pyplot as plt\n",
        "from sklearn.cluster import KMeans\n",
        "from sklearn.mixture import GaussianMixture\n",
        "from sentence_transformers import SentenceTransformer\n",
        "from sklearn.metrics import cohen_kappa_score, silhouette_score\n",
        "import timeit\n",
        "\n",
        "import math\n",
        "import typing as ty\n",
        "\n",
        "from statistics import mean, harmonic_mean\n",
        "\n",
        "import numpy as np\n",
        "\n",
        "from scipy.optimize import linear_sum_assignment"
      ]
    },
    {
      "cell_type": "code",
      "execution_count": null,
      "metadata": {
        "colab": {
          "base_uri": "https://localhost:8080/",
          "height": 356
        },
        "id": "svvwu4A6Syar",
        "outputId": "f1180bc3-cf5b-4fb8-c076-5a741827f4ea"
      },
      "outputs": [
        {
          "data": {
            "text/html": [
              "<div>\n",
              "<style scoped>\n",
              "    .dataframe tbody tr th:only-of-type {\n",
              "        vertical-align: middle;\n",
              "    }\n",
              "\n",
              "    .dataframe tbody tr th {\n",
              "        vertical-align: top;\n",
              "    }\n",
              "\n",
              "    .dataframe thead th {\n",
              "        text-align: right;\n",
              "    }\n",
              "</style>\n",
              "<table border=\"1\" class=\"dataframe\">\n",
              "  <thead>\n",
              "    <tr style=\"text-align: right;\">\n",
              "      <th></th>\n",
              "      <th>Unnamed: 0</th>\n",
              "      <th>date</th>\n",
              "      <th>sentence</th>\n",
              "      <th>cluster</th>\n",
              "      <th>Unnamed: 3</th>\n",
              "      <th>Unnamed: 4</th>\n",
              "      <th>Unnamed: 5</th>\n",
              "      <th>Unnamed: 6</th>\n",
              "      <th>action</th>\n",
              "      <th>index</th>\n",
              "      <th>keywords</th>\n",
              "    </tr>\n",
              "  </thead>\n",
              "  <tbody>\n",
              "    <tr>\n",
              "      <th>0</th>\n",
              "      <td>0</td>\n",
              "      <td>January 30, 2020</td>\n",
              "      <td>the first case was confirmed in Kerala's Thris...</td>\n",
              "      <td>0</td>\n",
              "      <td>NaN</td>\n",
              "      <td>NaN</td>\n",
              "      <td>NaN</td>\n",
              "      <td>Source: https://www.business-standard.com/arti...</td>\n",
              "      <td>'confirm'</td>\n",
              "      <td>0</td>\n",
              "      <td>'coronavirus case', 'Business Standard', 'News...</td>\n",
              "    </tr>\n",
              "    <tr>\n",
              "      <th>1</th>\n",
              "      <td>1</td>\n",
              "      <td>February 2, 2020</td>\n",
              "      <td>the second case was reported in Kerala's Alapp...</td>\n",
              "      <td>0</td>\n",
              "      <td>NaN</td>\n",
              "      <td>NaN</td>\n",
              "      <td>NaN</td>\n",
              "      <td>Source: https://www.who.int/india/emergencies/...</td>\n",
              "      <td>'report'</td>\n",
              "      <td>1</td>\n",
              "      <td>'satisfied ERROR', 'satisfied Second', 'Second...</td>\n",
              "    </tr>\n",
              "    <tr>\n",
              "      <th>2</th>\n",
              "      <td>2</td>\n",
              "      <td>February 3, 2020</td>\n",
              "      <td>the third case was reported in Kerala's Kasara...</td>\n",
              "      <td>0</td>\n",
              "      <td>NaN</td>\n",
              "      <td>NaN</td>\n",
              "      <td>NaN</td>\n",
              "      <td>Source: https://en.wikipedia.org/wiki/Timeline...</td>\n",
              "      <td>'report'</td>\n",
              "      <td>2</td>\n",
              "      <td>'third case', 'coronavirus case', 'Kasaragod d...</td>\n",
              "    </tr>\n",
              "    <tr>\n",
              "      <th>3</th>\n",
              "      <td>3</td>\n",
              "      <td>March 2, 2020</td>\n",
              "      <td>the Union Health Ministry reported two more ca...</td>\n",
              "      <td>1</td>\n",
              "      <td>NaN</td>\n",
              "      <td>NaN</td>\n",
              "      <td>NaN</td>\n",
              "      <td>NaN</td>\n",
              "      <td>'report'</td>\n",
              "      <td>3</td>\n",
              "      <td>'India Timeline', 'SARS-CoV-2 spread', 'sentin...</td>\n",
              "    </tr>\n",
              "    <tr>\n",
              "      <th>4</th>\n",
              "      <td>4</td>\n",
              "      <td>March 2, 2020</td>\n",
              "      <td>88 people who were in contact with the Hyderab...</td>\n",
              "      <td>1</td>\n",
              "      <td>NaN</td>\n",
              "      <td>NaN</td>\n",
              "      <td>NaN</td>\n",
              "      <td>NaN</td>\n",
              "      <td>'track'</td>\n",
              "      <td>4</td>\n",
              "      <td>'fellow passengers', 'India News', 'News Timel...</td>\n",
              "    </tr>\n",
              "  </tbody>\n",
              "</table>\n",
              "</div>"
            ],
            "text/plain": [
              "   Unnamed: 0  ...                                           keywords\n",
              "0           0  ...  'coronavirus case', 'Business Standard', 'News...\n",
              "1           1  ...  'satisfied ERROR', 'satisfied Second', 'Second...\n",
              "2           2  ...  'third case', 'coronavirus case', 'Kasaragod d...\n",
              "3           3  ...  'India Timeline', 'SARS-CoV-2 spread', 'sentin...\n",
              "4           4  ...  'fellow passengers', 'India News', 'News Timel...\n",
              "\n",
              "[5 rows x 11 columns]"
            ]
          },
          "execution_count": 5,
          "metadata": {},
          "output_type": "execute_result"
        }
      ],
      "source": [
        "\n",
        "# # CWMG Letters\n",
        "# file = pd.read_csv(\"letters_annotated.csv\")\n",
        "# file.head()\n",
        "\n",
        "# AL data\n",
        "file = pd.read_csv(\"/content/drive/MyDrive/Colab Notebooks/event_timeline_generation/CWMG_action_tag_unfiltered.csv\")\n",
        "file.head()\n"
      ]
    },
    {
      "cell_type": "code",
      "execution_count": null,
      "metadata": {
        "colab": {
          "base_uri": "https://localhost:8080/",
          "height": 356
        },
        "id": "Xup1LpMrSyas",
        "outputId": "4eee90e4-a205-4cd7-eb74-7ff1c3717871"
      },
      "outputs": [
        {
          "data": {
            "text/html": [
              "<div>\n",
              "<style scoped>\n",
              "    .dataframe tbody tr th:only-of-type {\n",
              "        vertical-align: middle;\n",
              "    }\n",
              "\n",
              "    .dataframe tbody tr th {\n",
              "        vertical-align: top;\n",
              "    }\n",
              "\n",
              "    .dataframe thead th {\n",
              "        text-align: right;\n",
              "    }\n",
              "</style>\n",
              "<table border=\"1\" class=\"dataframe\">\n",
              "  <thead>\n",
              "    <tr style=\"text-align: right;\">\n",
              "      <th></th>\n",
              "      <th>Unnamed: 0</th>\n",
              "      <th>date</th>\n",
              "      <th>sentence</th>\n",
              "      <th>cluster</th>\n",
              "      <th>Unnamed: 3</th>\n",
              "      <th>Unnamed: 4</th>\n",
              "      <th>Unnamed: 5</th>\n",
              "      <th>Unnamed: 6</th>\n",
              "      <th>action</th>\n",
              "      <th>index</th>\n",
              "      <th>keywords</th>\n",
              "    </tr>\n",
              "  </thead>\n",
              "  <tbody>\n",
              "    <tr>\n",
              "      <th>0</th>\n",
              "      <td>0</td>\n",
              "      <td>January 30, 2020</td>\n",
              "      <td>the first case was confirmed in Kerala's Thris...</td>\n",
              "      <td>0</td>\n",
              "      <td>NaN</td>\n",
              "      <td>NaN</td>\n",
              "      <td>NaN</td>\n",
              "      <td>Source: https://www.business-standard.com/arti...</td>\n",
              "      <td>'confirm'</td>\n",
              "      <td>0</td>\n",
              "      <td>'coronavirus case', 'Business Standard', 'News...</td>\n",
              "    </tr>\n",
              "    <tr>\n",
              "      <th>1</th>\n",
              "      <td>1</td>\n",
              "      <td>February 2, 2020</td>\n",
              "      <td>the second case was reported in Kerala's Alapp...</td>\n",
              "      <td>0</td>\n",
              "      <td>NaN</td>\n",
              "      <td>NaN</td>\n",
              "      <td>NaN</td>\n",
              "      <td>Source: https://www.who.int/india/emergencies/...</td>\n",
              "      <td>'report'</td>\n",
              "      <td>1</td>\n",
              "      <td>'satisfied ERROR', 'satisfied Second', 'Second...</td>\n",
              "    </tr>\n",
              "    <tr>\n",
              "      <th>2</th>\n",
              "      <td>2</td>\n",
              "      <td>February 3, 2020</td>\n",
              "      <td>the third case was reported in Kerala's Kasara...</td>\n",
              "      <td>0</td>\n",
              "      <td>NaN</td>\n",
              "      <td>NaN</td>\n",
              "      <td>NaN</td>\n",
              "      <td>Source: https://en.wikipedia.org/wiki/Timeline...</td>\n",
              "      <td>'report'</td>\n",
              "      <td>2</td>\n",
              "      <td>'third case', 'coronavirus case', 'Kasaragod d...</td>\n",
              "    </tr>\n",
              "    <tr>\n",
              "      <th>3</th>\n",
              "      <td>3</td>\n",
              "      <td>March 2, 2020</td>\n",
              "      <td>the Union Health Ministry reported two more ca...</td>\n",
              "      <td>1</td>\n",
              "      <td>NaN</td>\n",
              "      <td>NaN</td>\n",
              "      <td>NaN</td>\n",
              "      <td>NaN</td>\n",
              "      <td>'report'</td>\n",
              "      <td>3</td>\n",
              "      <td>'India Timeline', 'SARS-CoV-2 spread', 'sentin...</td>\n",
              "    </tr>\n",
              "    <tr>\n",
              "      <th>4</th>\n",
              "      <td>4</td>\n",
              "      <td>March 2, 2020</td>\n",
              "      <td>88 people who were in contact with the Hyderab...</td>\n",
              "      <td>1</td>\n",
              "      <td>NaN</td>\n",
              "      <td>NaN</td>\n",
              "      <td>NaN</td>\n",
              "      <td>NaN</td>\n",
              "      <td>'track'</td>\n",
              "      <td>4</td>\n",
              "      <td>'fellow passengers', 'India News', 'News Timel...</td>\n",
              "    </tr>\n",
              "  </tbody>\n",
              "</table>\n",
              "</div>"
            ],
            "text/plain": [
              "   Unnamed: 0  ...                                           keywords\n",
              "0           0  ...  'coronavirus case', 'Business Standard', 'News...\n",
              "1           1  ...  'satisfied ERROR', 'satisfied Second', 'Second...\n",
              "2           2  ...  'third case', 'coronavirus case', 'Kasaragod d...\n",
              "3           3  ...  'India Timeline', 'SARS-CoV-2 spread', 'sentin...\n",
              "4           4  ...  'fellow passengers', 'India News', 'News Timel...\n",
              "\n",
              "[5 rows x 11 columns]"
            ]
          },
          "execution_count": 6,
          "metadata": {},
          "output_type": "execute_result"
        }
      ],
      "source": [
        "# CWMG Letters\n",
        "# event_file = file.loc[(file.tag=='event') | (file.tag=='fact') | (file.tag == 'demand')]\n",
        "# event_file = event_file[event_file['sentence'].notna()]\n",
        "# event_file = event_file[event_file['cluster'].notna()]\n",
        "# event_file = event_file[event_file['keywords'].notna()]\n",
        "# event_file['id'] = event_file.index\n",
        "# event_file.head()\n",
        "\n",
        "# Covid-19 data\n",
        "event_file = file[file['sentence'].notna()]\n",
        "event_file.head()"
      ]
    },
    {
      "cell_type": "code",
      "execution_count": null,
      "metadata": {
        "colab": {
          "base_uri": "https://localhost:8080/",
          "height": 389
        },
        "id": "oxhJaPA6Syas",
        "outputId": "91cf5abd-dcee-4c72-8135-da5314aa69a1"
      },
      "outputs": [
        {
          "data": {
            "text/html": [
              "<div>\n",
              "<style scoped>\n",
              "    .dataframe tbody tr th:only-of-type {\n",
              "        vertical-align: middle;\n",
              "    }\n",
              "\n",
              "    .dataframe tbody tr th {\n",
              "        vertical-align: top;\n",
              "    }\n",
              "\n",
              "    .dataframe thead th {\n",
              "        text-align: right;\n",
              "    }\n",
              "</style>\n",
              "<table border=\"1\" class=\"dataframe\">\n",
              "  <thead>\n",
              "    <tr style=\"text-align: right;\">\n",
              "      <th></th>\n",
              "      <th>Unnamed: 0</th>\n",
              "      <th>date</th>\n",
              "      <th>sentence</th>\n",
              "      <th>cluster</th>\n",
              "      <th>Unnamed: 3</th>\n",
              "      <th>Unnamed: 4</th>\n",
              "      <th>Unnamed: 5</th>\n",
              "      <th>Unnamed: 6</th>\n",
              "      <th>action</th>\n",
              "      <th>index</th>\n",
              "      <th>keywords</th>\n",
              "      <th>id</th>\n",
              "    </tr>\n",
              "  </thead>\n",
              "  <tbody>\n",
              "    <tr>\n",
              "      <th>0</th>\n",
              "      <td>0</td>\n",
              "      <td>January 30, 2020</td>\n",
              "      <td>the first case was confirmed in Kerala's Thris...</td>\n",
              "      <td>0</td>\n",
              "      <td>NaN</td>\n",
              "      <td>NaN</td>\n",
              "      <td>NaN</td>\n",
              "      <td>Source: https://www.business-standard.com/arti...</td>\n",
              "      <td>'confirm'</td>\n",
              "      <td>0</td>\n",
              "      <td>'coronavirus case', 'Business Standard', 'News...</td>\n",
              "      <td>0</td>\n",
              "    </tr>\n",
              "    <tr>\n",
              "      <th>1</th>\n",
              "      <td>1</td>\n",
              "      <td>February 2, 2020</td>\n",
              "      <td>the second case was reported in Kerala's Alapp...</td>\n",
              "      <td>0</td>\n",
              "      <td>NaN</td>\n",
              "      <td>NaN</td>\n",
              "      <td>NaN</td>\n",
              "      <td>Source: https://www.who.int/india/emergencies/...</td>\n",
              "      <td>'report'</td>\n",
              "      <td>1</td>\n",
              "      <td>'satisfied ERROR', 'satisfied Second', 'Second...</td>\n",
              "      <td>1</td>\n",
              "    </tr>\n",
              "    <tr>\n",
              "      <th>2</th>\n",
              "      <td>2</td>\n",
              "      <td>February 3, 2020</td>\n",
              "      <td>the third case was reported in Kerala's Kasara...</td>\n",
              "      <td>0</td>\n",
              "      <td>NaN</td>\n",
              "      <td>NaN</td>\n",
              "      <td>NaN</td>\n",
              "      <td>Source: https://en.wikipedia.org/wiki/Timeline...</td>\n",
              "      <td>'report'</td>\n",
              "      <td>2</td>\n",
              "      <td>'third case', 'coronavirus case', 'Kasaragod d...</td>\n",
              "      <td>2</td>\n",
              "    </tr>\n",
              "    <tr>\n",
              "      <th>3</th>\n",
              "      <td>3</td>\n",
              "      <td>March 2, 2020</td>\n",
              "      <td>the Union Health Ministry reported two more ca...</td>\n",
              "      <td>1</td>\n",
              "      <td>NaN</td>\n",
              "      <td>NaN</td>\n",
              "      <td>NaN</td>\n",
              "      <td>NaN</td>\n",
              "      <td>'report'</td>\n",
              "      <td>3</td>\n",
              "      <td>'India Timeline', 'SARS-CoV-2 spread', 'sentin...</td>\n",
              "      <td>3</td>\n",
              "    </tr>\n",
              "    <tr>\n",
              "      <th>4</th>\n",
              "      <td>4</td>\n",
              "      <td>March 2, 2020</td>\n",
              "      <td>88 people who were in contact with the Hyderab...</td>\n",
              "      <td>1</td>\n",
              "      <td>NaN</td>\n",
              "      <td>NaN</td>\n",
              "      <td>NaN</td>\n",
              "      <td>NaN</td>\n",
              "      <td>'track'</td>\n",
              "      <td>4</td>\n",
              "      <td>'fellow passengers', 'India News', 'News Timel...</td>\n",
              "      <td>4</td>\n",
              "    </tr>\n",
              "  </tbody>\n",
              "</table>\n",
              "</div>"
            ],
            "text/plain": [
              "   Unnamed: 0  ... id\n",
              "0           0  ...  0\n",
              "1           1  ...  1\n",
              "2           2  ...  2\n",
              "3           3  ...  3\n",
              "4           4  ...  4\n",
              "\n",
              "[5 rows x 12 columns]"
            ]
          },
          "execution_count": 7,
          "metadata": {},
          "output_type": "execute_result"
        }
      ],
      "source": [
        "# CWAL\n",
        "# event_file = file.loc[(file.tag=='event') | (file.tag=='fact')]\n",
        "# event_file = event_file.loc[(event_file.ignore != 1) ]\n",
        "# event_file = event_file[event_file['Sentences Disassembled'].notna()]\n",
        "# event_file = event_file[event_file['Cluster'].notna()]\n",
        "# event_file = event_file.rename(columns={'Sentences Disassembled': 'sentence', 'Cluster': 'cluster'})\n",
        "# event_file = event_file[event_file['keywords'].notna()]\n",
        "event_file['id'] = event_file.index\n",
        "event_file.head()"
      ]
    },
    {
      "cell_type": "code",
      "execution_count": null,
      "metadata": {
        "id": "RCaawlU0Syat"
      },
      "outputs": [],
      "source": [
        "vectorizer = TfidfVectorizer(stop_words={'english'})\n",
        "event_list = event_file.sentence.tolist()\n",
        "X = vectorizer.fit_transform(event_list)\n",
        "X = X.toarray()"
      ]
    },
    {
      "cell_type": "code",
      "execution_count": null,
      "metadata": {
        "colab": {
          "base_uri": "https://localhost:8080/"
        },
        "id": "PGFAio1mSyat",
        "outputId": "4dddcf4b-8a71-493d-8fa3-0420856dcdfc"
      },
      "outputs": [
        {
          "data": {
            "text/plain": [
              "0           Dharasana Satyagraha, salt march, Dharasana\n",
              "1                                 Dharasana, Lord Irwin\n",
              "2                    Lord Irwin, Dandi March, Dharasana\n",
              "3     arrest, salt satyagraha, imprisonment of Mahat...\n",
              "4      assault, nonviolent resistance, freedom struggle\n",
              "                            ...                        \n",
              "89    'civil disobedience', 'M. R.', 'COLLECTED WORK...\n",
              "90    'civil disobedience', 'M. R.', 'civil dis-', '...\n",
              "91    'civil disobedience', 'M. R.', 'MAHATMA GANDHI...\n",
              "92    'civil disobedience', 'national Government', '...\n",
              "93    'civil disobedience', 'foreign cloth', 'M. R.'...\n",
              "Name: keywords, Length: 94, dtype: object"
            ]
          },
          "execution_count": 33,
          "metadata": {},
          "output_type": "execute_result"
        }
      ],
      "source": [
        "event_file.keywords"
      ]
    },
    {
      "cell_type": "code",
      "execution_count": null,
      "metadata": {
        "colab": {
          "base_uri": "https://localhost:8080/"
        },
        "id": "rH_zG6INSyat",
        "outputId": "84b41856-20f3-44cd-dfe8-bf2c621229ca"
      },
      "outputs": [
        {
          "name": "stdout",
          "output_type": "stream",
          "text": [
            "101.72896700699948\n"
          ]
        }
      ],
      "source": [
        "start = timeit.default_timer()\n",
        "sbert_model = SentenceTransformer('bert-base-nli-max-tokens' )\n",
        "\n",
        "event_list = event_file.sentence.tolist()\n",
        "X = sbert_model.encode(event_list)\n",
        "X_tag = sbert_model.encode(event_file.keywords.tolist())\n",
        "X_time = sbert_model.encode(event_file['date'].tolist())\n",
        "\n",
        "print(timeit.default_timer() - start)"
      ]
    },
    {
      "cell_type": "code",
      "execution_count": null,
      "metadata": {
        "colab": {
          "base_uri": "https://localhost:8080/"
        },
        "id": "NbJQ3gE8Syau",
        "outputId": "f6e3ec25-63c4-40ba-b19b-ec0258bc700c"
      },
      "outputs": [
        {
          "data": {
            "text/plain": [
              "(2304,)"
            ]
          },
          "execution_count": 9,
          "metadata": {},
          "output_type": "execute_result"
        }
      ],
      "source": [
        "# X.resize(X_tag.shape)\n",
        "# X = np.resize(X_tag.shape)\n",
        "# X = X + X_tag\n",
        "# X[0].shape\n",
        "# X = np.hstack((X, X_time))\n",
        "X = np.hstack((X, X_tag, X_time))\n",
        "\n",
        "X[0].shape"
      ]
    },
    {
      "cell_type": "code",
      "execution_count": null,
      "metadata": {
        "id": "CqqXN3gBSyau"
      },
      "outputs": [],
      "source": [
        "X_tag[0]"
      ]
    },
    {
      "cell_type": "code",
      "execution_count": null,
      "metadata": {
        "colab": {
          "base_uri": "https://localhost:8080/",
          "height": 295
        },
        "id": "9a-wra0QSyav",
        "outputId": "ff54c25d-fc86-4b60-91de-4a3f1d966343"
      },
      "outputs": [
        {
          "data": {
            "image/png": "[encoded data removed]",
            "text/plain": [
              "<Figure size 432x288 with 1 Axes>"
            ]
          },
          "metadata": {
            "needs_background": "light"
          },
          "output_type": "display_data"
        }
      ],
      "source": [
        "\n",
        "Sum_of_squared_distances = []\n",
        "range_n_clusters = range(2,len(event_list))\n",
        "for k in range_n_clusters:\n",
        "   km = KMeans(n_clusters=k, max_iter=200, n_init=10)\n",
        "   km = km.fit(X)\n",
        "   Sum_of_squared_distances.append(km.inertia_)\n",
        "plt.plot(range_n_clusters, Sum_of_squared_distances, 'bx-')\n",
        "plt.xlabel('k')\n",
        "plt.ylabel('Sum_of_squared_distances')\n",
        "plt.title('Elbow Method For Optimal k')\n",
        "plt.show()\n",
        "\n",
        "## Measuring silhoutte score for optimal cluster\n",
        "# max_score = -1\n",
        "# optimal_cluster = 2\n",
        "# for n_clusters in range_n_clusters:\n",
        "#     clusterer = KMeans(n_clusters=n_clusters)\n",
        "#     preds = clusterer.fit_predict(X)\n",
        "#     centers = clusterer.cluster_centers_\n",
        "\n",
        "#     score = silhouette_score(X, preds)\n",
        "#     print(\"For n_clusters = {}, silhouette score is {})\".format(n_clusters, score))\n",
        "\n",
        "#     if score > max_score:\n",
        "#         optimal_cluster = n_clusters\n",
        "\n",
        "# print(optimal_cluster)"
      ]
    },
    {
      "cell_type": "code",
      "execution_count": null,
      "metadata": {
        "colab": {
          "base_uri": "https://localhost:8080/"
        },
        "id": "TlL64rf3Syav",
        "outputId": "e6b71c55-d7a9-403d-8758-7489494f3254"
      },
      "outputs": [
        {
          "data": {
            "text/plain": [
              "28"
            ]
          },
          "execution_count": 36,
          "metadata": {},
          "output_type": "execute_result"
        }
      ],
      "source": [
        "event_file.cluster.nunique()\n",
        "# event_file.cluster"
      ]
    },
    {
      "cell_type": "code",
      "execution_count": null,
      "metadata": {
        "id": "wR2KBVcXSyav",
        "outputId": "29572f12-e8c0-42b9-87b7-bc6576ac65d0"
      },
      "outputs": [
        {
          "name": "stdout",
          "output_type": "stream",
          "text": [
            "        id                                           sentence  cluster\n",
            "24      30   If their platform held any other, it was in s...        0\n",
            "91     104   The proper limitation of the veto, he contend...        1\n",
            "59      65   Lincoln then went into a terse though rapid r...        2\n",
            "0        2   I am now about to start for home  and I desir...        3\n",
            "760    948                                                  A        3\n",
            "...    ...                                                ...      ...\n",
            "951   1191                                           ALS, DLC       49\n",
            "973   1213                                             July 4       50\n",
            "1073  1401                                    , July 28, 1849       50\n",
            "996   1238                                             July 9       50\n",
            "1076  1404   It is understood that the President at first ...       51\n",
            "\n",
            "[1306 rows x 3 columns]\n"
          ]
        }
      ],
      "source": [
        "# true_k = 30\n",
        "# model = KMeans(n_clusters=true_k, init='k-means++', max_iter=200, n_init=10)\n",
        "# # model.fit(X.toarray())\n",
        "# model.fit(X)\n",
        "# labels=model.labels_\n",
        "# title = event_list\n",
        "# identifier = event_file.id.tolist()\n",
        "# wiki_cl=pd.DataFrame(list(zip(identifier, title,labels)),columns=['id','sentence','cluster'])\n",
        "# print(wiki_cl.sort_values(by=['cluster']))"
      ]
    },
    {
      "cell_type": "code",
      "execution_count": null,
      "metadata": {
        "id": "8QIzEbImSyaw"
      },
      "outputs": [],
      "source": [
        "# Gaussian Mixture model\n",
        "n_components = event_file.cluster.nunique()\n",
        "model = GaussianMixture(n_components = n_components)\n",
        "model.fit(X)\n",
        "labels=model.predict(X)\n",
        "title = event_list\n",
        "identifier = event_file.id.tolist()\n",
        "wiki_cl=pd.DataFrame(list(zip(identifier, title,labels)),columns=['id','sentence','cluster'])\n",
        "print(wiki_cl.sort_values(by=['id']))"
      ]
    },
    {
      "cell_type": "code",
      "execution_count": null,
      "metadata": {
        "id": "NG85NZbbSyaw"
      },
      "outputs": [],
      "source": [
        "cdict = {}\n",
        "ldict = {}\n",
        "key = []\n",
        "response = []\n",
        "# identifier = event_file.id.tolist()\n",
        "# identifier\n",
        "for i, lab in zip(identifier, labels):\n",
        "    try:\n",
        "        cdict[lab].add(i)\n",
        "    except:\n",
        "        cdict[lab] = {i}\n",
        "for k, v in cdict.items():\n",
        "    response.append(v)\n",
        "\n",
        "ground_truth_id = event_file.id.tolist()\n",
        "ground_truth_lab = event_file.cluster.astype(int).tolist()\n",
        "\n",
        "for i, lab in zip(ground_truth_id, ground_truth_lab):\n",
        "    try:\n",
        "        ldict[lab].add(i)\n",
        "    except:\n",
        "        ldict[lab] = {i}\n",
        "#     key.append(set(x))\n",
        "ldict\n",
        "\n",
        "for k, v in ldict.items():\n",
        "    key.append(v)"
      ]
    },
    {
      "cell_type": "code",
      "execution_count": null,
      "metadata": {
        "colab": {
          "base_uri": "https://localhost:8080/",
          "height": 221
        },
        "id": "pR7kRoFDSyaw",
        "outputId": "da660828-665f-4f26-a994-48b6ce891945"
      },
      "outputs": [
        {
          "ename": "NameError",
          "evalue": "ignored",
          "output_type": "error",
          "traceback": [
            "\u001b[0;31m---------------------------------------------------------------------------\u001b[0m",
            "\u001b[0;31mNameError\u001b[0m                                 Traceback (most recent call last)",
            "\u001b[0;32m<ipython-input-14-1705fef5c97e>\u001b[0m in \u001b[0;36m<module>\u001b[0;34m()\u001b[0m\n\u001b[0;32m----> 1\u001b[0;31m \u001b[0mprint\u001b[0m\u001b[0;34m(\u001b[0m\u001b[0mmuc\u001b[0m\u001b[0;34m(\u001b[0m\u001b[0mkey\u001b[0m\u001b[0;34m,\u001b[0m \u001b[0mresponse\u001b[0m\u001b[0;34m)\u001b[0m\u001b[0;34m)\u001b[0m\u001b[0;34m\u001b[0m\u001b[0;34m\u001b[0m\u001b[0m\n\u001b[0m\u001b[1;32m      2\u001b[0m \u001b[0mprint\u001b[0m\u001b[0;34m(\u001b[0m\u001b[0mb_cubed\u001b[0m\u001b[0;34m(\u001b[0m\u001b[0mkey\u001b[0m\u001b[0;34m,\u001b[0m \u001b[0mresponse\u001b[0m\u001b[0;34m)\u001b[0m\u001b[0;34m)\u001b[0m\u001b[0;34m\u001b[0m\u001b[0;34m\u001b[0m\u001b[0m\n\u001b[1;32m      3\u001b[0m \u001b[0mprint\u001b[0m\u001b[0;34m(\u001b[0m\u001b[0mceaf_e\u001b[0m\u001b[0;34m(\u001b[0m\u001b[0mkey\u001b[0m\u001b[0;34m,\u001b[0m \u001b[0mresponse\u001b[0m\u001b[0;34m)\u001b[0m\u001b[0;34m)\u001b[0m\u001b[0;34m\u001b[0m\u001b[0;34m\u001b[0m\u001b[0m\n\u001b[1;32m      4\u001b[0m \u001b[0mprint\u001b[0m\u001b[0;34m(\u001b[0m\u001b[0mblanc\u001b[0m\u001b[0;34m(\u001b[0m\u001b[0mkey\u001b[0m\u001b[0;34m,\u001b[0m \u001b[0mresponse\u001b[0m\u001b[0;34m)\u001b[0m\u001b[0;34m)\u001b[0m\u001b[0;34m\u001b[0m\u001b[0;34m\u001b[0m\u001b[0m\n",
            "\u001b[0;31mNameError\u001b[0m: name 'muc' is not defined"
          ]
        }
      ],
      "source": [
        "print(muc(key, response))\n",
        "print(b_cubed(key, response))\n",
        "print(ceaf_e(key, response))\n",
        "print(blanc(key, response))"
      ]
    },
    {
      "cell_type": "code",
      "execution_count": null,
      "metadata": {
        "id": "JZzUin8gSyay"
      },
      "outputs": [],
      "source": [
        "from sklearn.preprocessing import normalize\n",
        "data_scaled = normalize(X)\n"
      ]
    },
    {
      "cell_type": "code",
      "execution_count": null,
      "metadata": {
        "colab": {
          "base_uri": "https://localhost:8080/",
          "height": 444
        },
        "id": "iWU8Fr7ISyay",
        "outputId": "6aa50176-ebad-4aac-ebce-d96d24a7de20"
      },
      "outputs": [
        {
          "data": {
            "image/png": "[encoded data removed]",
            "text/plain": [
              "<Figure size 720x504 with 1 Axes>"
            ]
          },
          "metadata": {
            "needs_background": "light"
          },
          "output_type": "display_data"
        }
      ],
      "source": [
        "import scipy.cluster.hierarchy as shc\n",
        "plt.figure(figsize=(10, 7))  \n",
        "plt.title(\"Dendrograms\") \n",
        "dend = shc.dendrogram(shc.linkage(data_scaled, method='ward'))"
      ]
    },
    {
      "cell_type": "code",
      "execution_count": null,
      "metadata": {
        "colab": {
          "base_uri": "https://localhost:8080/"
        },
        "id": "ju_5WXe5Syay",
        "outputId": "a309c31c-db3b-4b82-c08d-dc67b74cbcd6"
      },
      "outputs": [
        {
          "name": "stdout",
          "output_type": "stream",
          "text": [
            "      id                                           sentence  cluster\n",
            "0      0  the first case was confirmed in Kerala's Thris...        2\n",
            "1      1  the second case was reported in Kerala's Alapp...        2\n",
            "2      2  the third case was reported in Kerala's Kasara...        2\n",
            "3      3  the Union Health Ministry reported two more ca...       18\n",
            "4      4  88 people who were in contact with the Hyderab...        0\n",
            "..   ...                                                ...      ...\n",
            "135  135  In the past week, India has reported 1,148 dea...       22\n",
            "136  136  More than 85% of affected districts reported o...       62\n",
            "137  137  India reports highest number of daily cases at...        8\n",
            "138  138  Five states, namely, Maharashtra, Kerala, Karn...       27\n",
            "139  139  In the past week 1,631,636 cases reported in c...        8\n",
            "\n",
            "[140 rows x 3 columns]\n"
          ]
        }
      ],
      "source": [
        "n_cluster = event_file.cluster.nunique()\n",
        "from sklearn.cluster import AgglomerativeClustering\n",
        "cluster = AgglomerativeClustering(distance_threshold=0.6, n_clusters=None, affinity='euclidean', linkage='ward')  \n",
        "# cluster = AgglomerativeClustering(n_clusters=n_cluster, affinity='euclidean', linkage='ward') \n",
        "\n",
        "labels=cluster.fit_predict(data_scaled)\n",
        "title = event_list\n",
        "identifier = event_file.id.tolist()\n",
        "wiki_cl=pd.DataFrame(list(zip(identifier, title,labels)),columns=['id','sentence','cluster'])\n",
        "print(wiki_cl.sort_values(by=['id']))"
      ]
    },
    {
      "cell_type": "code",
      "execution_count": null,
      "metadata": {
        "colab": {
          "base_uri": "https://localhost:8080/"
        },
        "id": "jp9u7R9hSyaz",
        "outputId": "e5161447-14f0-487f-f144-f966eb2bd6a9"
      },
      "outputs": [],
      "source": [
        "print(muc(key, response))\n",
        "print(b_cubed(key, response))\n",
        "print(ceaf_e(key, response))\n",
        "print(blanc(key, response))"
      ]
    },
    {
      "cell_type": "code",
      "execution_count": null,
      "metadata": {
        "id": "l_w5K9P7Syaz"
      },
      "outputs": [],
      "source": [
        "# with sentence embeddings\n",
        "# (0.5, 0.5, 0.5)\n",
        "# (0.4354166666666666, 0.5466269841269841, 0.48472488803582847)\n",
        "# (0.3737826709631221, 0.3737826709631221, 0.3737826709631221)\n",
        "# (0.5586385497595264, 0.6019062658620495, 0.5680344164521071)\n",
        "\n",
        "# with sentence and tag embedding concatenation\n",
        "# (0.7352941176470589, 0.7352941176470589, 0.7352941176470589)\n",
        "# (0.626736111111111, 0.7527777777777778, 0.6839989372710238)\n",
        "# (0.5311688311688312, 0.5311688311688312, 0.5311688311688312)\n",
        "# (0.6752633526101602, 0.8013324108378342, 0.713818894041953)"
      ]
    },
    {
      "cell_type": "code",
      "execution_count": null,
      "metadata": {
        "id": "0dPjLrUfSyaz"
      },
      "outputs": [],
      "source": [
        "def trace(cluster: ty.Set, partition: ty.Iterable[ty.Set]) -> ty.Iterable[ty.Set]:\n",
        "    remaining = set(cluster)\n",
        "    for a in partition:\n",
        "        common = remaining.intersection(a)\n",
        "        if common:\n",
        "            remaining.difference_update(common)\n",
        "            yield common\n",
        "    for x in sorted(remaining):\n",
        "        yield set((x,))\n",
        "        \n",
        "class RemapClusteringsReturn(ty.NamedTuple):\n",
        "    clusterings: ty.Sequence[ty.Sequence[ty.Sequence[int]]]\n",
        "    elts_map: ty.Dict[ty.Hashable, int]\n",
        "\n",
        "\n",
        "def remap_clusterings(\n",
        "    clusterings: ty.Sequence[ty.Sequence[ty.Set[ty.Hashable]]],\n",
        ") -> RemapClusteringsReturn:\n",
        "    \"\"\"Remap clusterings of arbitrary elements to clusterings of integers.\"\"\"\n",
        "    elts = set(e for clusters in clusterings for c in clusters for e in c)\n",
        "    elts_map = {e: i for i, e in enumerate(elts)}\n",
        "    res = []\n",
        "    for clusters in clusterings:\n",
        "        remapped_clusters = []\n",
        "        for c in clusters:\n",
        "            remapped_c = [elts_map[e] for e in c]\n",
        "            remapped_clusters.append(remapped_c)\n",
        "        res.append(remapped_clusters)\n",
        "    return RemapClusteringsReturn(res, elts_map)\n",
        "\n",
        "def muc(\n",
        "    key: ty.Sequence[ty.Set], response: ty.Sequence[ty.Set]\n",
        ") -> ty.Tuple[float, float, float]:\n",
        "\n",
        "    # Edge case\n",
        "    if all(len(k) == 1 for k in key) or all(len(r) == 1 for r in response):\n",
        "        return 0.0, 0.0, 0.0\n",
        "    R = sum(len(k) - sum(1 for _ in trace(k, response)) for k in key) / sum(\n",
        "        len(k) - 1 for k in key\n",
        "    )\n",
        "    P = sum(len(r) - sum(1 for _ in trace(r, key)) for r in response) / sum(\n",
        "        len(r) - 1 for r in response\n",
        "    )\n",
        "    F = harmonic_mean((R, P))\n",
        "    return R, P, F\n",
        "\n",
        "def b_cubed(\n",
        "    key: ty.Sequence[ty.Set], response: ty.Sequence[ty.Set]\n",
        ") -> ty.Tuple[float, float, float]:\n",
        "    if sum(len(k) for k in key) == 0:\n",
        "        R = 0.0\n",
        "    else:\n",
        "        R = math.fsum(\n",
        "            len(k.intersection(r)) ** 2 / len(k) for k in key for r in response\n",
        "        ) / sum(len(k) for k in key)\n",
        "    if sum(len(r) for r in response) == 0:\n",
        "        P = 0.0\n",
        "    else:\n",
        "        P = math.fsum(\n",
        "            len(r.intersection(k)) ** 2 / len(r) for r in response for k in key\n",
        "        ) / sum(len(r) for r in response)\n",
        "    F = harmonic_mean((R, P))\n",
        "    return R, P, F\n",
        "\n",
        "def ceaf(\n",
        "    key: ty.Sequence[ty.Set],\n",
        "    response: ty.Sequence[ty.Set],\n",
        "    score: ty.Callable[[ty.Set, ty.Set], float],\n",
        ") -> ty.Tuple[float, float, float]:\n",
        "    if len(response) == 0 or len(key) == 0:\n",
        "        return 0.0, 0.0, 0.0\n",
        "    else:\n",
        "        cost_matrix = np.array([[-score(k, r) for r in response] for k in key])\n",
        "        # TODO: See https://github.com/allenai/allennlp/issues/2946 for ideas on speeding\n",
        "        # the next line up\n",
        "        row_ind, col_ind = linear_sum_assignment(cost_matrix)\n",
        "        total_score = -cost_matrix[row_ind, col_ind].sum()\n",
        "        R = total_score / math.fsum(score(k, k) for k in key)\n",
        "        P = total_score / math.fsum(score(r, r) for r in response)\n",
        "        F = harmonic_mean((R, P))\n",
        "        return R, P, F\n",
        "def ceaf_e(\n",
        "    key: ty.Sequence[ty.Set], response: ty.Sequence[ty.Set]\n",
        ") -> ty.Tuple[float, float, float]:\n",
        "\n",
        "    def Φ_4(k, r):\n",
        "        return 2 * len(k.intersection(r)) / (len(k) + len(r))\n",
        "\n",
        "    return ceaf(key, response, Φ_4)\n",
        "\n",
        "def blanc(\n",
        "    key: ty.Sequence[ty.Set], response: ty.Sequence[ty.Set], fast=True,\n",
        ") -> ty.Tuple[float, float, float]:\n",
        "    r\"\"\"\n",
        "    Return the BLANC `$(R, P, F)$` scores for a `#response` clustering given a `#key` clustering.\n",
        "    ## Notes\n",
        "      - Mention identifiers have to be comparable\n",
        "      - To ensure the compliance with the reference implementation, the edge cases results are\n",
        "        those from Recasens and Hovy (2011) rather than from the more recent Luo et al. (2014) when\n",
        "        those two disagree. This has an effect for the N-6 testcase, where according to Luo et al.\n",
        "        (2014), BLANC should be `$\\frac{0+F_n}{2}$` since `$C_k=∅$` and `$C_r≠∅$`, but according to\n",
        "        Recasens and Hovy (2011), BLANC should be `$F_n$`.\n",
        "    \"\"\"\n",
        "    if fast:\n",
        "        C_score, N_score = fast_detailed_blanc(key, response)\n",
        "    else:\n",
        "        C_score, N_score = detailed_blanc(key, response)\n",
        "    if C_score is None:\n",
        "        assert N_score is not None  # nosec:B101\n",
        "        return N_score\n",
        "    if N_score is None:\n",
        "        assert C_score is not None  # nosec:B101\n",
        "        return C_score\n",
        "    return ty.cast(\n",
        "        ty.Tuple[float, float, float],\n",
        "        tuple(np.mean((C_score, N_score), axis=0).tolist()),\n",
        "    )\n",
        "\n",
        "\n",
        "def links_from_clusters(\n",
        "    clusters: ty.Iterable[ty.Set],\n",
        ") -> ty.Tuple[\n",
        "    ty.Set[ty.Tuple[ty.Hashable, ty.Hashable]],\n",
        "    ty.Set[ty.Tuple[ty.Hashable, ty.Hashable]],\n",
        "]:\n",
        "    r\"\"\"\n",
        "    Return a `(coreference_links, non-coreference_links)` tuple corresponding to a clustering.\n",
        "    The links are given as sorted couples for uniqueness\n",
        "    \"\"\"\n",
        "    clusters_lst = [list(c) for c in clusters]\n",
        "    C = set()\n",
        "    N = set()\n",
        "    for i, c in enumerate(clusters_lst[:-1]):\n",
        "        for j, e in enumerate(c[:-1]):\n",
        "            # Since the links are symmetric, we only add the links between `e` and\n",
        "            # the following mentions\n",
        "            for f in c[j + 1 :]:\n",
        "                C.add((e, f) if e <= f else (f, e))\n",
        "        for other in clusters_lst[i + 1 :]:\n",
        "            for e in c:\n",
        "                for f in other:\n",
        "                    N.add((e, f) if e <= f else (f, e))\n",
        "    #  We missed the coreference links for the last cluster, add them here\n",
        "    last_cluster = clusters_lst[-1]\n",
        "    for j, e in enumerate(last_cluster):\n",
        "        for f in last_cluster[j + 1 :]:\n",
        "            C.add((e, f) if e <= f else (f, e))\n",
        "    return C, N\n",
        "\n",
        "\n",
        "def detailed_blanc(\n",
        "    key: ty.Sequence[ty.Set], response: ty.Sequence[ty.Set]\n",
        ") -> ty.Tuple[\n",
        "    ty.Union[ty.Tuple[float, float, float], None],\n",
        "    ty.Union[ty.Tuple[float, float, float], None],\n",
        "]:\n",
        "    \"\"\"Return BLANC `$(R, P, F)$` scores for coreference and non-coreference respectively.\"\"\"\n",
        "\n",
        "    # Edge case : a single mention in both `key` and `response` clusters\n",
        "    # in that case, `C_k`, `C_r`, `N_k` and `N_r` are all empty, so we need a separate examination\n",
        "    # of the mentions to know if we are very good or very bad.\n",
        "    if len(key) == len(response) == 1 and len(key[0]) == len(response[0]) == 1:\n",
        "        if key[0] == response[0]:\n",
        "            return ((1.0, 1.0, 1.0), (1.0, 1.0, 1.0))\n",
        "        else:\n",
        "            return ((0.0, 0.0, 0.0), (0.0, 0.0, 0.0))\n",
        "\n",
        "    C_k, N_k = links_from_clusters(key)\n",
        "    C_r, N_r = links_from_clusters(response)\n",
        "\n",
        "    tp_c = len(C_k.intersection(C_r))\n",
        "    tp_n = len(N_k.intersection(N_r))\n",
        "    c_k, n_k = len(C_k), len(N_k)\n",
        "    c_r, n_r = len(C_r), len(N_r)\n",
        "\n",
        "    if not c_k and not c_r:\n",
        "        R_c, P_c, F_c = (1.0, 1.0, 1.0)\n",
        "    elif not c_k or not c_r:\n",
        "        R_c, P_c, F_c = (0.0, 0.0, 0.0)\n",
        "    else:\n",
        "        R_c, P_c = tp_c / c_k, tp_c / c_r\n",
        "        F_c = 2 * tp_c / (c_k + c_r)\n",
        "\n",
        "    if not n_k and not n_r:\n",
        "        R_n, P_n, F_n = (1.0, 1.0, 1.0)\n",
        "    elif not n_k or not n_r:\n",
        "        R_n, P_n, F_n = (0.0, 0.0, 0.0)\n",
        "    else:\n",
        "        R_n, P_n = tp_n / n_k, tp_n / n_r\n",
        "        F_n = 2 * tp_n / (n_k + n_r)\n",
        "\n",
        "    # Edge cases\n",
        "    if not c_k:\n",
        "        return (None, (R_n, P_n, F_n))\n",
        "    if not n_k:\n",
        "        return ((R_c, P_c, F_c), None)\n",
        "\n",
        "    return ((R_c, P_c, F_c), (R_n, P_n, F_n))\n",
        "\n",
        "\n",
        "class AdjacencyReturn(ty.NamedTuple):\n",
        "    \"\"\"Represents a clustering of integers as an adjacency matrix and a presence mask\"\"\"\n",
        "\n",
        "    adjacency: np.ndarray\n",
        "    presence: np.ndarray\n",
        "\n",
        "\n",
        "def adjacency(clusters: ty.List[ty.List[int]], num_elts: int) -> AdjacencyReturn:\n",
        "    adjacency = np.zeros((num_elts, num_elts), dtype=np.bool)\n",
        "    presence = np.zeros(num_elts, dtype=np.bool)\n",
        "    # **Note** The nested loop makes the complexity of this `$∑|c|²$` but we are only doing memory\n",
        "    # access, which is really fast, so this is not really an issue. In comparison, doing it by\n",
        "    # computing the Gram matrix one-hot elt-cluster attribution matrix was making `fast_blanc` 3×\n",
        "    # slower than the naïve version.\n",
        "    for c in clusters:\n",
        "        # Note: don't be clever and use numpy array indicing here, see\n",
        "        # <https://docs.scipy.org/doc/numpy/user/basics.indexing.html?highlight=slice#assigning-values-to-indexed-arrays>\n",
        "        # for why it would be slower. If you want to get C loops here, cythonize it instead (nut\n",
        "        # it's probably not worth it)\n",
        "        for e in c:\n",
        "            presence[e] = True\n",
        "            for f in c:\n",
        "                if f != e:\n",
        "                    adjacency[e, f] = True\n",
        "    return AdjacencyReturn(adjacency, presence)\n",
        "\n",
        "\n",
        "def fast_detailed_blanc(\n",
        "    key: ty.Sequence[ty.Set], response: ty.Sequence[ty.Set]\n",
        ") -> ty.Tuple[\n",
        "    ty.Union[ty.Tuple[float, float, float], None],\n",
        "    ty.Union[ty.Tuple[float, float, float], None],\n",
        "]:\n",
        "    \"\"\"Return BLANC `$(R, P, F)$` scores for coreference and non-coreference respectively.\"\"\"\n",
        "\n",
        "    # Edge case : a single mention in both `key` and `response` clusters\n",
        "    # in that case, `C_k`, `C_r`, `N_k` and `N_r` are all empty, so we need a separate examination\n",
        "    # of the mentions to know if we are very good or very bad.\n",
        "    if len(key) == len(response) == 1 and len(key[0]) == len(response[0]) == 1:\n",
        "        if key[0] == response[0]:\n",
        "            return ((1.0, 1.0, 1.0), (1.0, 1.0, 1.0))\n",
        "        else:\n",
        "            return ((0.0, 0.0, 0.0), (0.0, 0.0, 0.0))\n",
        "\n",
        "    (key, response), mentions_map = remap_clusterings([key, response])\n",
        "    num_mentions = len(mentions_map)\n",
        "\n",
        "    key_coref_links, key_presence = adjacency(key, num_mentions)\n",
        "    response_coref_links, response_presence = adjacency(response, num_mentions)\n",
        "\n",
        "    tp_c = np.logical_and(key_coref_links, response_coref_links).sum() // 2\n",
        "    c_k = key_coref_links.sum() // 2\n",
        "    c_r = response_coref_links.sum() // 2\n",
        "\n",
        "    # Headache ahead\n",
        "    common_links = np.logical_and(\n",
        "        np.outer(key_presence, key_presence),\n",
        "        np.outer(response_presence, response_presence),\n",
        "    )\n",
        "    # There is no link between a mention and itself\n",
        "    np.fill_diagonal(common_links, False)\n",
        "    tp_n = (\n",
        "        np.logical_and(\n",
        "            common_links,\n",
        "            np.logical_not(np.logical_or(key_coref_links, response_coref_links)),\n",
        "        ).sum()\n",
        "        / 2\n",
        "    )\n",
        "    num_key_mentions = key_presence.sum()\n",
        "    n_k = (num_key_mentions * (num_key_mentions - 1)) // 2 - c_k\n",
        "    num_response_mentions = response_presence.sum()\n",
        "    n_r = (num_response_mentions * (num_response_mentions - 1)) // 2 - c_r\n",
        "\n",
        "    if not c_k and not c_r:\n",
        "        R_c, P_c, F_c = (1.0, 1.0, 1.0)\n",
        "    elif not c_k or not c_r:\n",
        "        R_c, P_c, F_c = (0.0, 0.0, 0.0)\n",
        "    else:\n",
        "        R_c, P_c = tp_c / c_k, tp_c / c_r\n",
        "        F_c = 2 * tp_c / (c_k + c_r)\n",
        "\n",
        "    if not n_k and not n_r:\n",
        "        R_n, P_n, F_n = (1.0, 1.0, 1.0)\n",
        "    elif not n_k or not n_r:\n",
        "        R_n, P_n, F_n = (0.0, 0.0, 0.0)\n",
        "    else:\n",
        "        R_n, P_n = tp_n / n_k, tp_n / n_r\n",
        "        F_n = 2 * tp_n / (n_k + n_r)\n",
        "\n",
        "    # Edge cases\n",
        "    if not c_k:\n",
        "        return (None, (R_n, P_n, F_n))\n",
        "    if not n_k:\n",
        "        return ((R_c, P_c, F_c), None)\n",
        "\n",
        "    return ((R_c, P_c, F_c), (R_n, P_n, F_n))"
      ]
    },
    {
      "cell_type": "code",
      "execution_count": null,
      "metadata": {
        "id": "k7vJXL1_Sya5",
        "outputId": "034ce649-8c06-40e4-f234-5f0a82c6f16d"
      },
      "outputs": [
        {
          "name": "stdout",
          "output_type": "stream",
          "text": [
            "(0.4353312302839117, 0.4353312302839117, 0.4353312302839117)\n",
            "(0.16213466362869816, 0.24604795823768963, 0.19546595473853418)\n",
            "(0.202868324257332, 0.202868324257332, 0.202868324257332)\n",
            "(0.5347753430531704, 0.5607138701947878, 0.5419441428164795)\n"
          ]
        }
      ],
      "source": [
        "print(muc(key, response))\n",
        "print(b_cubed(key, response))\n",
        "print(ceaf_e(key, response))\n",
        "print(blanc(key, response))"
      ]
    },
    {
      "cell_type": "code",
      "execution_count": null,
      "metadata": {
        "id": "-Zrwyc9sSya7"
      },
      "outputs": [],
      "source": [
        "import nltk\n",
        "from nltk.collocations import *\n",
        "bigram_measures = nltk.collocations.BigramAssocMeasures()\n",
        "trigram_measures = nltk.collocations.TrigramAssocMeasures()\n",
        "\n",
        "tokens = nltk.tokenize.word_tokenize(event_file.Text[4] + event_file.sentence[4])\n",
        "bigramFinder = nltk.collocations.BigramCollocationFinder.from_words(tokens)\n",
        "trigramFinder = nltk.collocations.TrigramCollocationFinder.from_words(tokens)\n",
        "\n",
        "# change this to read in your data\n",
        "# finder = BigramCollocationFinder.from_words(file.Text[0])\n",
        "# # only bigrams that appear 3+ times\n",
        "# finder.apply_freq_filter(3) \n",
        "\n",
        "# return the 5 n-grams with the highest PMI\n",
        "# finder.nbest(bigram_measures.pmi, 5)  \n",
        "\n",
        "#bigrams\n",
        "bigram_freq = bigramFinder.ngram_fd.items()\n",
        "bigramFreqTable = pd.DataFrame(list(bigram_freq), columns=['bigram','freq']).sort_values(by='freq', ascending=False)\n",
        "#trigrams\n",
        "trigram_freq = trigramFinder.ngram_fd.items()\n",
        "trigramFreqTable = pd.DataFrame(list(trigram_freq), columns=['trigram','freq']).sort_values(by='freq', ascending=False)"
      ]
    },
    {
      "cell_type": "code",
      "execution_count": null,
      "metadata": {
        "id": "uI_KbvqHSya7"
      },
      "outputs": [],
      "source": [
        "\n",
        "# nltk.download('stopwords')\n",
        "from nltk.corpus import stopwords\n",
        "#get english stopwords\n",
        "en_stopwords = set(stopwords.words('english'))\n",
        "#function to filter for ADJ/NN bigrams\n",
        "def rightTypes(ngram):\n",
        "    if '-pron-' in ngram or 't' in ngram:\n",
        "        return False\n",
        "    for word in ngram:\n",
        "        if word in en_stopwords or word.isspace():\n",
        "            return False\n",
        "    acceptable_types = ('JJ', 'JJR', 'JJS', 'NN', 'NNS', 'NNP', 'NNPS')\n",
        "    second_type = ('NN', 'NNS', 'NNP', 'NNPS')\n",
        "    tags = nltk.pos_tag(ngram)\n",
        "    if tags[0][1] in acceptable_types and tags[1][1] in second_type:\n",
        "        return True\n",
        "    else:\n",
        "        return False\n",
        "#filter bigrams\n",
        "filtered_bi = bigramFreqTable[bigramFreqTable.bigram.map(lambda x: rightTypes(x))]\n",
        "#function to filter for trigrams\n",
        "def rightTypesTri(ngram):\n",
        "    if '-pron-' in ngram or 't' in ngram:\n",
        "        return False\n",
        "    for word in ngram:\n",
        "        if word in en_stopwords or word.isspace():\n",
        "            return False\n",
        "    first_type = ('JJ', 'JJR', 'JJS', 'NN', 'NNS', 'NNP', 'NNPS')\n",
        "    third_type = ('JJ', 'JJR', 'JJS', 'NN', 'NNS', 'NNP', 'NNPS')\n",
        "    tags = nltk.pos_tag(ngram)\n",
        "    if tags[0][1] in first_type and tags[2][1] in third_type:\n",
        "        return True\n",
        "    else:\n",
        "        return False\n",
        "#filter trigrams\n",
        "filtered_tri = trigramFreqTable[trigramFreqTable.trigram.map(lambda x: rightTypesTri(x))]"
      ]
    },
    {
      "cell_type": "code",
      "execution_count": null,
      "metadata": {
        "id": "fyp2-iH-Sya7"
      },
      "outputs": [],
      "source": [
        "# from nltk import bigrams\n",
        "# from nltk import trigrams\n",
        "# # #filter for only those with more than 20 occurences\n",
        "# # bigramFinder.apply_freq_filter(20)\n",
        "# # trigramFinder.apply_freq_filter(20)\n",
        "# bigramPMITable = pd.DataFrame(list(bigramFinder.score_ngrams(bigram_measures.pmi)), columns=['bigram','PMI']).sort_values(by='PMI', ascending=False)\n",
        "# trigramPMITable = pd.DataFrame(list(trigramFinder.score_ngrams(bigram_measures.pmi)), columns=['trigram','PMI']).\\\n",
        "#                                     sort_values(by='PMI', ascending=False)"
      ]
    },
    {
      "cell_type": "code",
      "execution_count": null,
      "metadata": {
        "id": "7Eu9Lo32Sya8",
        "outputId": "bd726cac-2e02-4dd9-d65d-ff79852bde34"
      },
      "outputs": [
        {
          "data": {
            "text/html": [
              "<div>\n",
              "<style scoped>\n",
              "    .dataframe tbody tr th:only-of-type {\n",
              "        vertical-align: middle;\n",
              "    }\n",
              "\n",
              "    .dataframe tbody tr th {\n",
              "        vertical-align: top;\n",
              "    }\n",
              "\n",
              "    .dataframe thead th {\n",
              "        text-align: right;\n",
              "    }\n",
              "</style>\n",
              "<table border=\"1\" class=\"dataframe\">\n",
              "  <thead>\n",
              "    <tr style=\"text-align: right;\">\n",
              "      <th></th>\n",
              "      <th>bigram</th>\n",
              "      <th>freq</th>\n",
              "    </tr>\n",
              "  </thead>\n",
              "  <tbody>\n",
              "    <tr>\n",
              "      <th>59</th>\n",
              "      <td>(sagacious, Pennsylvania)</td>\n",
              "      <td>2</td>\n",
              "    </tr>\n",
              "    <tr>\n",
              "      <th>53</th>\n",
              "      <td>(undisguised, opinion)</td>\n",
              "      <td>2</td>\n",
              "    </tr>\n",
              "    <tr>\n",
              "      <th>60</th>\n",
              "      <td>(Pennsylvania, politician)</td>\n",
              "      <td>2</td>\n",
              "    </tr>\n",
              "    <tr>\n",
              "      <th>17</th>\n",
              "      <td>(whig, star)</td>\n",
              "      <td>1</td>\n",
              "    </tr>\n",
              "    <tr>\n",
              "      <th>16</th>\n",
              "      <td>(lone, whig)</td>\n",
              "      <td>1</td>\n",
              "    </tr>\n",
              "    <tr>\n",
              "      <th>8</th>\n",
              "      <td>(Philadelphia, Convention)</td>\n",
              "      <td>1</td>\n",
              "    </tr>\n",
              "    <tr>\n",
              "      <th>37</th>\n",
              "      <td>(document, room)</td>\n",
              "      <td>1</td>\n",
              "    </tr>\n",
              "    <tr>\n",
              "      <th>36</th>\n",
              "      <td>(Whig, document)</td>\n",
              "      <td>1</td>\n",
              "    </tr>\n",
              "  </tbody>\n",
              "</table>\n",
              "</div>"
            ],
            "text/plain": [
              "                        bigram  freq\n",
              "59   (sagacious, Pennsylvania)     2\n",
              "53      (undisguised, opinion)     2\n",
              "60  (Pennsylvania, politician)     2\n",
              "17                (whig, star)     1\n",
              "16                (lone, whig)     1\n",
              "8   (Philadelphia, Convention)     1\n",
              "37            (document, room)     1\n",
              "36            (Whig, document)     1"
            ]
          },
          "execution_count": 124,
          "metadata": {
            "tags": []
          },
          "output_type": "execute_result"
        }
      ],
      "source": [
        "filtered_bi"
      ]
    },
    {
      "cell_type": "code",
      "execution_count": null,
      "metadata": {
        "id": "vDZcmON7Sya8",
        "outputId": "43c66de9-ce78-426c-914c-69238fbf0d0a"
      },
      "outputs": [
        {
          "data": {
            "text/html": [
              "<div>\n",
              "<style scoped>\n",
              "    .dataframe tbody tr th:only-of-type {\n",
              "        vertical-align: middle;\n",
              "    }\n",
              "\n",
              "    .dataframe tbody tr th {\n",
              "        vertical-align: top;\n",
              "    }\n",
              "\n",
              "    .dataframe thead th {\n",
              "        text-align: right;\n",
              "    }\n",
              "</style>\n",
              "<table border=\"1\" class=\"dataframe\">\n",
              "  <thead>\n",
              "    <tr style=\"text-align: right;\">\n",
              "      <th></th>\n",
              "      <th>bigram</th>\n",
              "      <th>freq</th>\n",
              "    </tr>\n",
              "  </thead>\n",
              "  <tbody>\n",
              "    <tr>\n",
              "      <th>36</th>\n",
              "      <td>(Whig, document)</td>\n",
              "      <td>1</td>\n",
              "    </tr>\n",
              "    <tr>\n",
              "      <th>37</th>\n",
              "      <td>(document, room)</td>\n",
              "      <td>1</td>\n",
              "    </tr>\n",
              "    <tr>\n",
              "      <th>8</th>\n",
              "      <td>(Philadelphia, Convention)</td>\n",
              "      <td>1</td>\n",
              "    </tr>\n",
              "    <tr>\n",
              "      <th>17</th>\n",
              "      <td>(whig, star)</td>\n",
              "      <td>1</td>\n",
              "    </tr>\n",
              "    <tr>\n",
              "      <th>16</th>\n",
              "      <td>(lone, whig)</td>\n",
              "      <td>1</td>\n",
              "    </tr>\n",
              "    <tr>\n",
              "      <th>60</th>\n",
              "      <td>(Pennsylvania, politician)</td>\n",
              "      <td>1</td>\n",
              "    </tr>\n",
              "    <tr>\n",
              "      <th>59</th>\n",
              "      <td>(sagacious, Pennsylvania)</td>\n",
              "      <td>1</td>\n",
              "    </tr>\n",
              "    <tr>\n",
              "      <th>53</th>\n",
              "      <td>(undisguised, opinion)</td>\n",
              "      <td>1</td>\n",
              "    </tr>\n",
              "  </tbody>\n",
              "</table>\n",
              "</div>"
            ],
            "text/plain": [
              "                        bigram  freq\n",
              "36            (Whig, document)     1\n",
              "37            (document, room)     1\n",
              "8   (Philadelphia, Convention)     1\n",
              "17                (whig, star)     1\n",
              "16                (lone, whig)     1\n",
              "60  (Pennsylvania, politician)     1\n",
              "59   (sagacious, Pennsylvania)     1\n",
              "53      (undisguised, opinion)     1"
            ]
          },
          "execution_count": 127,
          "metadata": {
            "tags": []
          },
          "output_type": "execute_result"
        }
      ],
      "source": [
        "filtered_bi"
      ]
    },
    {
      "cell_type": "code",
      "execution_count": null,
      "metadata": {
        "id": "XC3_w1bJSya8"
      },
      "outputs": [],
      "source": []
    }
  ],
  "metadata": {
    "colab": {
      "name": "eval.ipynb",
      "provenance": []
    },
    "kernelspec": {
      "display_name": "Python 3",
      "language": "python",
      "name": "python3"
    },
    "language_info": {
      "codemirror_mode": {
        "name": "ipython",
        "version": 3
      },
      "file_extension": ".py",
      "mimetype": "text/x-python",
      "name": "python",
      "nbconvert_exporter": "python",
      "pygments_lexer": "ipython3",
      "version": "3.7.4"
    }
  },
  "nbformat": 4,
  "nbformat_minor": 0
}
